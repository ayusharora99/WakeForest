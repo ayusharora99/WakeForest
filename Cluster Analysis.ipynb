{
 "cells": [
  {
   "cell_type": "code",
   "execution_count": 1,
   "metadata": {},
   "outputs": [],
   "source": [
    "import pandas as pd\n",
    "import matplotlib.pyplot as plt"
   ]
  },
  {
   "cell_type": "code",
   "execution_count": 2,
   "metadata": {},
   "outputs": [],
   "source": [
    "clusters = pd.read_csv('cluster_strategic.csv')"
   ]
  },
  {
   "cell_type": "code",
   "execution_count": 3,
   "metadata": {},
   "outputs": [
    {
     "data": {
      "text/html": [
       "<div>\n",
       "<style scoped>\n",
       "    .dataframe tbody tr th:only-of-type {\n",
       "        vertical-align: middle;\n",
       "    }\n",
       "\n",
       "    .dataframe tbody tr th {\n",
       "        vertical-align: top;\n",
       "    }\n",
       "\n",
       "    .dataframe thead th {\n",
       "        text-align: right;\n",
       "    }\n",
       "</style>\n",
       "<table border=\"1\" class=\"dataframe\">\n",
       "  <thead>\n",
       "    <tr style=\"text-align: right;\">\n",
       "      <th></th>\n",
       "      <th>Unnamed: 0</th>\n",
       "      <th>Angle</th>\n",
       "      <th>Direction</th>\n",
       "      <th>HangTime</th>\n",
       "      <th>LastTrackedDistance</th>\n",
       "      <th>ExitSpeed</th>\n",
       "      <th>3B</th>\n",
       "      <th>5_6_Hole</th>\n",
       "      <th>SS</th>\n",
       "      <th>Up_the_Middle</th>\n",
       "      <th>2B</th>\n",
       "      <th>3_4_Hole</th>\n",
       "      <th>1B</th>\n",
       "      <th>PlayResult</th>\n",
       "      <th>cluster #</th>\n",
       "    </tr>\n",
       "  </thead>\n",
       "  <tbody>\n",
       "    <tr>\n",
       "      <td>0</td>\n",
       "      <td>0</td>\n",
       "      <td>0.868350</td>\n",
       "      <td>0.275039</td>\n",
       "      <td>0.100554</td>\n",
       "      <td>0.121342</td>\n",
       "      <td>0.762034</td>\n",
       "      <td>0.0</td>\n",
       "      <td>0.0</td>\n",
       "      <td>1.0</td>\n",
       "      <td>0.0</td>\n",
       "      <td>0.0</td>\n",
       "      <td>0.0</td>\n",
       "      <td>0.0</td>\n",
       "      <td>1.0</td>\n",
       "      <td>0</td>\n",
       "    </tr>\n",
       "    <tr>\n",
       "      <td>1</td>\n",
       "      <td>1</td>\n",
       "      <td>0.918357</td>\n",
       "      <td>0.502234</td>\n",
       "      <td>0.154778</td>\n",
       "      <td>0.190322</td>\n",
       "      <td>0.824455</td>\n",
       "      <td>0.0</td>\n",
       "      <td>0.0</td>\n",
       "      <td>0.0</td>\n",
       "      <td>1.0</td>\n",
       "      <td>0.0</td>\n",
       "      <td>0.0</td>\n",
       "      <td>0.0</td>\n",
       "      <td>1.0</td>\n",
       "      <td>1</td>\n",
       "    </tr>\n",
       "    <tr>\n",
       "      <td>2</td>\n",
       "      <td>2</td>\n",
       "      <td>0.958225</td>\n",
       "      <td>0.094132</td>\n",
       "      <td>0.433793</td>\n",
       "      <td>0.469123</td>\n",
       "      <td>0.863455</td>\n",
       "      <td>1.0</td>\n",
       "      <td>0.0</td>\n",
       "      <td>0.0</td>\n",
       "      <td>0.0</td>\n",
       "      <td>0.0</td>\n",
       "      <td>0.0</td>\n",
       "      <td>0.0</td>\n",
       "      <td>0.0</td>\n",
       "      <td>5</td>\n",
       "    </tr>\n",
       "    <tr>\n",
       "      <td>3</td>\n",
       "      <td>3</td>\n",
       "      <td>0.947422</td>\n",
       "      <td>0.235321</td>\n",
       "      <td>0.340720</td>\n",
       "      <td>0.370906</td>\n",
       "      <td>0.752272</td>\n",
       "      <td>0.0</td>\n",
       "      <td>1.0</td>\n",
       "      <td>0.0</td>\n",
       "      <td>0.0</td>\n",
       "      <td>0.0</td>\n",
       "      <td>0.0</td>\n",
       "      <td>0.0</td>\n",
       "      <td>1.0</td>\n",
       "      <td>3</td>\n",
       "    </tr>\n",
       "    <tr>\n",
       "      <td>4</td>\n",
       "      <td>4</td>\n",
       "      <td>0.642050</td>\n",
       "      <td>0.496386</td>\n",
       "      <td>0.007351</td>\n",
       "      <td>0.020443</td>\n",
       "      <td>0.704999</td>\n",
       "      <td>0.0</td>\n",
       "      <td>0.0</td>\n",
       "      <td>0.0</td>\n",
       "      <td>1.0</td>\n",
       "      <td>0.0</td>\n",
       "      <td>0.0</td>\n",
       "      <td>0.0</td>\n",
       "      <td>1.0</td>\n",
       "      <td>1</td>\n",
       "    </tr>\n",
       "  </tbody>\n",
       "</table>\n",
       "</div>"
      ],
      "text/plain": [
       "   Unnamed: 0     Angle  Direction  HangTime  LastTrackedDistance  ExitSpeed  \\\n",
       "0           0  0.868350   0.275039  0.100554             0.121342   0.762034   \n",
       "1           1  0.918357   0.502234  0.154778             0.190322   0.824455   \n",
       "2           2  0.958225   0.094132  0.433793             0.469123   0.863455   \n",
       "3           3  0.947422   0.235321  0.340720             0.370906   0.752272   \n",
       "4           4  0.642050   0.496386  0.007351             0.020443   0.704999   \n",
       "\n",
       "    3B  5_6_Hole   SS  Up_the_Middle   2B  3_4_Hole   1B  PlayResult  \\\n",
       "0  0.0       0.0  1.0            0.0  0.0       0.0  0.0         1.0   \n",
       "1  0.0       0.0  0.0            1.0  0.0       0.0  0.0         1.0   \n",
       "2  1.0       0.0  0.0            0.0  0.0       0.0  0.0         0.0   \n",
       "3  0.0       1.0  0.0            0.0  0.0       0.0  0.0         1.0   \n",
       "4  0.0       0.0  0.0            1.0  0.0       0.0  0.0         1.0   \n",
       "\n",
       "   cluster #  \n",
       "0          0  \n",
       "1          1  \n",
       "2          5  \n",
       "3          3  \n",
       "4          1  "
      ]
     },
     "execution_count": 3,
     "metadata": {},
     "output_type": "execute_result"
    }
   ],
   "source": [
    "clusters.head()"
   ]
  },
  {
   "cell_type": "code",
   "execution_count": 4,
   "metadata": {},
   "outputs": [],
   "source": [
    "clusters = clusters.drop(columns = 'Unnamed: 0')"
   ]
  },
  {
   "cell_type": "code",
   "execution_count": 5,
   "metadata": {},
   "outputs": [
    {
     "data": {
      "text/html": [
       "<div>\n",
       "<style scoped>\n",
       "    .dataframe tbody tr th:only-of-type {\n",
       "        vertical-align: middle;\n",
       "    }\n",
       "\n",
       "    .dataframe tbody tr th {\n",
       "        vertical-align: top;\n",
       "    }\n",
       "\n",
       "    .dataframe thead th {\n",
       "        text-align: right;\n",
       "    }\n",
       "</style>\n",
       "<table border=\"1\" class=\"dataframe\">\n",
       "  <thead>\n",
       "    <tr style=\"text-align: right;\">\n",
       "      <th></th>\n",
       "      <th>Angle</th>\n",
       "      <th>Direction</th>\n",
       "      <th>HangTime</th>\n",
       "      <th>LastTrackedDistance</th>\n",
       "      <th>ExitSpeed</th>\n",
       "      <th>3B</th>\n",
       "      <th>5_6_Hole</th>\n",
       "      <th>SS</th>\n",
       "      <th>Up_the_Middle</th>\n",
       "      <th>2B</th>\n",
       "      <th>3_4_Hole</th>\n",
       "      <th>1B</th>\n",
       "      <th>PlayResult</th>\n",
       "      <th>cluster #</th>\n",
       "    </tr>\n",
       "  </thead>\n",
       "  <tbody>\n",
       "    <tr>\n",
       "      <td>0</td>\n",
       "      <td>0.868350</td>\n",
       "      <td>0.275039</td>\n",
       "      <td>0.100554</td>\n",
       "      <td>0.121342</td>\n",
       "      <td>0.762034</td>\n",
       "      <td>0.0</td>\n",
       "      <td>0.0</td>\n",
       "      <td>1.0</td>\n",
       "      <td>0.0</td>\n",
       "      <td>0.0</td>\n",
       "      <td>0.0</td>\n",
       "      <td>0.0</td>\n",
       "      <td>1.0</td>\n",
       "      <td>0</td>\n",
       "    </tr>\n",
       "    <tr>\n",
       "      <td>1</td>\n",
       "      <td>0.918357</td>\n",
       "      <td>0.502234</td>\n",
       "      <td>0.154778</td>\n",
       "      <td>0.190322</td>\n",
       "      <td>0.824455</td>\n",
       "      <td>0.0</td>\n",
       "      <td>0.0</td>\n",
       "      <td>0.0</td>\n",
       "      <td>1.0</td>\n",
       "      <td>0.0</td>\n",
       "      <td>0.0</td>\n",
       "      <td>0.0</td>\n",
       "      <td>1.0</td>\n",
       "      <td>1</td>\n",
       "    </tr>\n",
       "    <tr>\n",
       "      <td>2</td>\n",
       "      <td>0.958225</td>\n",
       "      <td>0.094132</td>\n",
       "      <td>0.433793</td>\n",
       "      <td>0.469123</td>\n",
       "      <td>0.863455</td>\n",
       "      <td>1.0</td>\n",
       "      <td>0.0</td>\n",
       "      <td>0.0</td>\n",
       "      <td>0.0</td>\n",
       "      <td>0.0</td>\n",
       "      <td>0.0</td>\n",
       "      <td>0.0</td>\n",
       "      <td>0.0</td>\n",
       "      <td>5</td>\n",
       "    </tr>\n",
       "    <tr>\n",
       "      <td>3</td>\n",
       "      <td>0.947422</td>\n",
       "      <td>0.235321</td>\n",
       "      <td>0.340720</td>\n",
       "      <td>0.370906</td>\n",
       "      <td>0.752272</td>\n",
       "      <td>0.0</td>\n",
       "      <td>1.0</td>\n",
       "      <td>0.0</td>\n",
       "      <td>0.0</td>\n",
       "      <td>0.0</td>\n",
       "      <td>0.0</td>\n",
       "      <td>0.0</td>\n",
       "      <td>1.0</td>\n",
       "      <td>3</td>\n",
       "    </tr>\n",
       "    <tr>\n",
       "      <td>4</td>\n",
       "      <td>0.642050</td>\n",
       "      <td>0.496386</td>\n",
       "      <td>0.007351</td>\n",
       "      <td>0.020443</td>\n",
       "      <td>0.704999</td>\n",
       "      <td>0.0</td>\n",
       "      <td>0.0</td>\n",
       "      <td>0.0</td>\n",
       "      <td>1.0</td>\n",
       "      <td>0.0</td>\n",
       "      <td>0.0</td>\n",
       "      <td>0.0</td>\n",
       "      <td>1.0</td>\n",
       "      <td>1</td>\n",
       "    </tr>\n",
       "  </tbody>\n",
       "</table>\n",
       "</div>"
      ],
      "text/plain": [
       "      Angle  Direction  HangTime  LastTrackedDistance  ExitSpeed   3B  \\\n",
       "0  0.868350   0.275039  0.100554             0.121342   0.762034  0.0   \n",
       "1  0.918357   0.502234  0.154778             0.190322   0.824455  0.0   \n",
       "2  0.958225   0.094132  0.433793             0.469123   0.863455  1.0   \n",
       "3  0.947422   0.235321  0.340720             0.370906   0.752272  0.0   \n",
       "4  0.642050   0.496386  0.007351             0.020443   0.704999  0.0   \n",
       "\n",
       "   5_6_Hole   SS  Up_the_Middle   2B  3_4_Hole   1B  PlayResult  cluster #  \n",
       "0       0.0  1.0            0.0  0.0       0.0  0.0         1.0          0  \n",
       "1       0.0  0.0            1.0  0.0       0.0  0.0         1.0          1  \n",
       "2       0.0  0.0            0.0  0.0       0.0  0.0         0.0          5  \n",
       "3       1.0  0.0            0.0  0.0       0.0  0.0         1.0          3  \n",
       "4       0.0  0.0            1.0  0.0       0.0  0.0         1.0          1  "
      ]
     },
     "execution_count": 5,
     "metadata": {},
     "output_type": "execute_result"
    }
   ],
   "source": [
    "clusters.head()"
   ]
  },
  {
   "cell_type": "code",
   "execution_count": 6,
   "metadata": {},
   "outputs": [],
   "source": [
    "cluster_number = clusters['cluster #']"
   ]
  },
  {
   "cell_type": "code",
   "execution_count": 7,
   "metadata": {},
   "outputs": [
    {
     "data": {
      "text/plain": [
       "0       0\n",
       "1       1\n",
       "2       5\n",
       "3       3\n",
       "4       1\n",
       "       ..\n",
       "2715    4\n",
       "2716    1\n",
       "2717    6\n",
       "2718    4\n",
       "2719    1\n",
       "Name: cluster #, Length: 2720, dtype: int64"
      ]
     },
     "execution_count": 7,
     "metadata": {},
     "output_type": "execute_result"
    }
   ],
   "source": [
    "cluster_number"
   ]
  },
  {
   "cell_type": "code",
   "execution_count": 8,
   "metadata": {},
   "outputs": [
    {
     "name": "stdout",
     "output_type": "stream",
     "text": [
      "<class 'pandas.core.frame.DataFrame'>\n",
      "RangeIndex: 2720 entries, 0 to 2719\n",
      "Data columns (total 14 columns):\n",
      "Angle                  2720 non-null float64\n",
      "Direction              2720 non-null float64\n",
      "HangTime               2720 non-null float64\n",
      "LastTrackedDistance    2720 non-null float64\n",
      "ExitSpeed              2720 non-null float64\n",
      "3B                     2720 non-null float64\n",
      "5_6_Hole               2720 non-null float64\n",
      "SS                     2720 non-null float64\n",
      "Up_the_Middle          2720 non-null float64\n",
      "2B                     2720 non-null float64\n",
      "3_4_Hole               2720 non-null float64\n",
      "1B                     2720 non-null float64\n",
      "PlayResult             2720 non-null float64\n",
      "cluster #              2720 non-null int64\n",
      "dtypes: float64(13), int64(1)\n",
      "memory usage: 297.6 KB\n"
     ]
    }
   ],
   "source": [
    "clusters.info()"
   ]
  },
  {
   "cell_type": "code",
   "execution_count": 9,
   "metadata": {},
   "outputs": [],
   "source": [
    "original = pd.read_csv('BIP_numerical_NA_groundballs.csv')"
   ]
  },
  {
   "cell_type": "code",
   "execution_count": 10,
   "metadata": {},
   "outputs": [
    {
     "name": "stdout",
     "output_type": "stream",
     "text": [
      "<class 'pandas.core.frame.DataFrame'>\n",
      "RangeIndex: 2720 entries, 0 to 2719\n",
      "Data columns (total 61 columns):\n",
      "Unnamed: 0             2720 non-null int64\n",
      "Angle                  2720 non-null float64\n",
      "Balls                  2720 non-null int64\n",
      "BatterId               2720 non-null float64\n",
      "BatterSide             2720 non-null int64\n",
      "Bearing                2720 non-null float64\n",
      "Direction              2720 non-null float64\n",
      "Distance               2720 non-null float64\n",
      "ExitSpeed              2720 non-null float64\n",
      "Extension              2720 non-null float64\n",
      "HangTime               2720 non-null float64\n",
      "HitSpinRate            609 non-null float64\n",
      "HorzApprAngle          2720 non-null float64\n",
      "HorzBreak              2720 non-null float64\n",
      "HorzRelAngle           2720 non-null float64\n",
      "InducedVertBreak       2720 non-null float64\n",
      "Inning                 2720 non-null int64\n",
      "LastTrackedDistance    2720 non-null float64\n",
      "Outs                   2720 non-null int64\n",
      "OutsOnPlay             2720 non-null int64\n",
      "PAofInning             2720 non-null int64\n",
      "PitchNo                2720 non-null int64\n",
      "PitcherId              2720 non-null float64\n",
      "PitcherThrows          2720 non-null int64\n",
      "PitchofPA              2720 non-null int64\n",
      "PlateLocHeight         2720 non-null float64\n",
      "PlateLocSide           2720 non-null float64\n",
      "PositionAt110X         45 non-null float64\n",
      "PositionAt110Y         45 non-null float64\n",
      "PositionAt110Z         45 non-null float64\n",
      "RelHeight              2720 non-null float64\n",
      "RelSide                2720 non-null float64\n",
      "RelSpeed               2720 non-null float64\n",
      "RunsScored             2720 non-null int64\n",
      "SpinAxis               2720 non-null float64\n",
      "SpinRate               2524 non-null float64\n",
      "Strikes                2720 non-null int64\n",
      "VertApprAngle          2720 non-null float64\n",
      "VertBreak              2720 non-null float64\n",
      "VertRelAngle           2720 non-null float64\n",
      "ZoneSpeed              2720 non-null float64\n",
      "ZoneTime               2720 non-null float64\n",
      "ax0                    2720 non-null float64\n",
      "ay0                    2720 non-null float64\n",
      "az0                    2720 non-null float64\n",
      "pfxx                   2720 non-null float64\n",
      "pfxz                   2720 non-null float64\n",
      "vx0                    2720 non-null float64\n",
      "vy0                    2720 non-null float64\n",
      "vz0                    2720 non-null float64\n",
      "x0                     2720 non-null float64\n",
      "y0                     2720 non-null float64\n",
      "z0                     2720 non-null float64\n",
      "PlayResult             2720 non-null int64\n",
      "3B                     2720 non-null int64\n",
      "5_6_Hole               2720 non-null int64\n",
      "SS                     2720 non-null int64\n",
      "Up_the_Middle          2720 non-null int64\n",
      "2B                     2720 non-null int64\n",
      "3_4_Hole               2720 non-null int64\n",
      "1B                     2720 non-null int64\n",
      "dtypes: float64(41), int64(20)\n",
      "memory usage: 1.3 MB\n"
     ]
    }
   ],
   "source": [
    "original.info()"
   ]
  },
  {
   "cell_type": "code",
   "execution_count": 11,
   "metadata": {},
   "outputs": [],
   "source": [
    "original['3B'] = clusters['3B']\n",
    "original['5_6_Hole'] = clusters['5_6_Hole']\n",
    "original['SS'] = clusters['SS']\n",
    "original['Up_the_Middle'] = clusters['Up_the_Middle']\n",
    "original['2B'] = clusters['2B']\n",
    "original['3_4_Hole'] = clusters['3_4_Hole']\n",
    "original['1B'] = clusters['1B']\n",
    "\n"
   ]
  },
  {
   "cell_type": "code",
   "execution_count": 12,
   "metadata": {},
   "outputs": [],
   "source": [
    "original['cluster #'] = clusters['cluster #']"
   ]
  },
  {
   "cell_type": "code",
   "execution_count": 15,
   "metadata": {},
   "outputs": [
    {
     "data": {
      "text/html": [
       "<div>\n",
       "<style scoped>\n",
       "    .dataframe tbody tr th:only-of-type {\n",
       "        vertical-align: middle;\n",
       "    }\n",
       "\n",
       "    .dataframe tbody tr th {\n",
       "        vertical-align: top;\n",
       "    }\n",
       "\n",
       "    .dataframe thead th {\n",
       "        text-align: right;\n",
       "    }\n",
       "</style>\n",
       "<table border=\"1\" class=\"dataframe\">\n",
       "  <thead>\n",
       "    <tr style=\"text-align: right;\">\n",
       "      <th></th>\n",
       "      <th>Angle</th>\n",
       "      <th>Balls</th>\n",
       "      <th>BatterId</th>\n",
       "      <th>BatterSide</th>\n",
       "      <th>Bearing</th>\n",
       "      <th>Direction</th>\n",
       "      <th>Distance</th>\n",
       "      <th>ExitSpeed</th>\n",
       "      <th>Extension</th>\n",
       "      <th>HangTime</th>\n",
       "      <th>...</th>\n",
       "      <th>z0</th>\n",
       "      <th>PlayResult</th>\n",
       "      <th>3B</th>\n",
       "      <th>5_6_Hole</th>\n",
       "      <th>SS</th>\n",
       "      <th>Up_the_Middle</th>\n",
       "      <th>2B</th>\n",
       "      <th>3_4_Hole</th>\n",
       "      <th>1B</th>\n",
       "      <th>cluster #</th>\n",
       "    </tr>\n",
       "  </thead>\n",
       "  <tbody>\n",
       "    <tr>\n",
       "      <td>0</td>\n",
       "      <td>-5.922391</td>\n",
       "      <td>1</td>\n",
       "      <td>8889924.0</td>\n",
       "      <td>0</td>\n",
       "      <td>-19.201773</td>\n",
       "      <td>-20.178722</td>\n",
       "      <td>21.666606</td>\n",
       "      <td>97.490851</td>\n",
       "      <td>5.554633</td>\n",
       "      <td>0.149565</td>\n",
       "      <td>...</td>\n",
       "      <td>5.024001</td>\n",
       "      <td>1</td>\n",
       "      <td>0.0</td>\n",
       "      <td>0.0</td>\n",
       "      <td>1.0</td>\n",
       "      <td>0.0</td>\n",
       "      <td>0.0</td>\n",
       "      <td>0.0</td>\n",
       "      <td>0.0</td>\n",
       "      <td>0</td>\n",
       "    </tr>\n",
       "    <tr>\n",
       "      <td>1</td>\n",
       "      <td>-1.774047</td>\n",
       "      <td>3</td>\n",
       "      <td>8889923.0</td>\n",
       "      <td>0</td>\n",
       "      <td>-0.624332</td>\n",
       "      <td>0.190045</td>\n",
       "      <td>33.651032</td>\n",
       "      <td>102.693597</td>\n",
       "      <td>5.549675</td>\n",
       "      <td>0.222021</td>\n",
       "      <td>...</td>\n",
       "      <td>4.863850</td>\n",
       "      <td>1</td>\n",
       "      <td>0.0</td>\n",
       "      <td>0.0</td>\n",
       "      <td>0.0</td>\n",
       "      <td>1.0</td>\n",
       "      <td>0.0</td>\n",
       "      <td>0.0</td>\n",
       "      <td>0.0</td>\n",
       "      <td>1</td>\n",
       "    </tr>\n",
       "    <tr>\n",
       "      <td>2</td>\n",
       "      <td>1.533179</td>\n",
       "      <td>0</td>\n",
       "      <td>8886492.0</td>\n",
       "      <td>1</td>\n",
       "      <td>-35.946978</td>\n",
       "      <td>-36.397544</td>\n",
       "      <td>85.709892</td>\n",
       "      <td>105.944197</td>\n",
       "      <td>5.319046</td>\n",
       "      <td>0.594855</td>\n",
       "      <td>...</td>\n",
       "      <td>6.104358</td>\n",
       "      <td>0</td>\n",
       "      <td>1.0</td>\n",
       "      <td>0.0</td>\n",
       "      <td>0.0</td>\n",
       "      <td>0.0</td>\n",
       "      <td>0.0</td>\n",
       "      <td>0.0</td>\n",
       "      <td>0.0</td>\n",
       "      <td>5</td>\n",
       "    </tr>\n",
       "    <tr>\n",
       "      <td>3</td>\n",
       "      <td>0.637003</td>\n",
       "      <td>0</td>\n",
       "      <td>8881734.0</td>\n",
       "      <td>1</td>\n",
       "      <td>-21.944780</td>\n",
       "      <td>-23.739582</td>\n",
       "      <td>63.686716</td>\n",
       "      <td>96.677192</td>\n",
       "      <td>5.457647</td>\n",
       "      <td>0.470486</td>\n",
       "      <td>...</td>\n",
       "      <td>6.079939</td>\n",
       "      <td>1</td>\n",
       "      <td>0.0</td>\n",
       "      <td>1.0</td>\n",
       "      <td>0.0</td>\n",
       "      <td>0.0</td>\n",
       "      <td>0.0</td>\n",
       "      <td>0.0</td>\n",
       "      <td>0.0</td>\n",
       "      <td>3</td>\n",
       "    </tr>\n",
       "    <tr>\n",
       "      <td>4</td>\n",
       "      <td>-24.694851</td>\n",
       "      <td>0</td>\n",
       "      <td>8889924.0</td>\n",
       "      <td>0</td>\n",
       "      <td>-4.367928</td>\n",
       "      <td>-0.334215</td>\n",
       "      <td>4.359958</td>\n",
       "      <td>92.736971</td>\n",
       "      <td>5.575303</td>\n",
       "      <td>0.025022</td>\n",
       "      <td>...</td>\n",
       "      <td>5.262697</td>\n",
       "      <td>1</td>\n",
       "      <td>0.0</td>\n",
       "      <td>0.0</td>\n",
       "      <td>0.0</td>\n",
       "      <td>1.0</td>\n",
       "      <td>0.0</td>\n",
       "      <td>0.0</td>\n",
       "      <td>0.0</td>\n",
       "      <td>1</td>\n",
       "    </tr>\n",
       "  </tbody>\n",
       "</table>\n",
       "<p>5 rows × 61 columns</p>\n",
       "</div>"
      ],
      "text/plain": [
       "       Angle  Balls   BatterId  BatterSide    Bearing  Direction   Distance  \\\n",
       "0  -5.922391      1  8889924.0           0 -19.201773 -20.178722  21.666606   \n",
       "1  -1.774047      3  8889923.0           0  -0.624332   0.190045  33.651032   \n",
       "2   1.533179      0  8886492.0           1 -35.946978 -36.397544  85.709892   \n",
       "3   0.637003      0  8881734.0           1 -21.944780 -23.739582  63.686716   \n",
       "4 -24.694851      0  8889924.0           0  -4.367928  -0.334215   4.359958   \n",
       "\n",
       "    ExitSpeed  Extension  HangTime  ...        z0  PlayResult   3B  5_6_Hole  \\\n",
       "0   97.490851   5.554633  0.149565  ...  5.024001           1  0.0       0.0   \n",
       "1  102.693597   5.549675  0.222021  ...  4.863850           1  0.0       0.0   \n",
       "2  105.944197   5.319046  0.594855  ...  6.104358           0  1.0       0.0   \n",
       "3   96.677192   5.457647  0.470486  ...  6.079939           1  0.0       1.0   \n",
       "4   92.736971   5.575303  0.025022  ...  5.262697           1  0.0       0.0   \n",
       "\n",
       "    SS  Up_the_Middle   2B  3_4_Hole   1B  cluster #  \n",
       "0  1.0            0.0  0.0       0.0  0.0          0  \n",
       "1  0.0            1.0  0.0       0.0  0.0          1  \n",
       "2  0.0            0.0  0.0       0.0  0.0          5  \n",
       "3  0.0            0.0  0.0       0.0  0.0          3  \n",
       "4  0.0            1.0  0.0       0.0  0.0          1  \n",
       "\n",
       "[5 rows x 61 columns]"
      ]
     },
     "execution_count": 15,
     "metadata": {},
     "output_type": "execute_result"
    }
   ],
   "source": [
    "original.head()"
   ]
  },
  {
   "cell_type": "code",
   "execution_count": 14,
   "metadata": {},
   "outputs": [],
   "source": [
    "original = original.drop(columns = 'Unnamed: 0')"
   ]
  },
  {
   "cell_type": "code",
   "execution_count": 16,
   "metadata": {},
   "outputs": [],
   "source": [
    "original.to_csv('Batter_Profiles.csv')"
   ]
  },
  {
   "cell_type": "code",
   "execution_count": 17,
   "metadata": {},
   "outputs": [
    {
     "data": {
      "text/html": [
       "<div>\n",
       "<style scoped>\n",
       "    .dataframe tbody tr th:only-of-type {\n",
       "        vertical-align: middle;\n",
       "    }\n",
       "\n",
       "    .dataframe tbody tr th {\n",
       "        vertical-align: top;\n",
       "    }\n",
       "\n",
       "    .dataframe thead th {\n",
       "        text-align: right;\n",
       "    }\n",
       "</style>\n",
       "<table border=\"1\" class=\"dataframe\">\n",
       "  <thead>\n",
       "    <tr style=\"text-align: right;\">\n",
       "      <th></th>\n",
       "      <th>Angle</th>\n",
       "      <th>Direction</th>\n",
       "      <th>HangTime</th>\n",
       "      <th>LastTrackedDistance</th>\n",
       "      <th>ExitSpeed</th>\n",
       "      <th>3B</th>\n",
       "      <th>5_6_Hole</th>\n",
       "      <th>SS</th>\n",
       "      <th>Up_the_Middle</th>\n",
       "      <th>2B</th>\n",
       "      <th>3_4_Hole</th>\n",
       "      <th>1B</th>\n",
       "      <th>PlayResult</th>\n",
       "      <th>cluster #</th>\n",
       "    </tr>\n",
       "  </thead>\n",
       "  <tbody>\n",
       "    <tr>\n",
       "      <td>0</td>\n",
       "      <td>0.868350</td>\n",
       "      <td>0.275039</td>\n",
       "      <td>0.100554</td>\n",
       "      <td>0.121342</td>\n",
       "      <td>0.762034</td>\n",
       "      <td>0.0</td>\n",
       "      <td>0.0</td>\n",
       "      <td>1.0</td>\n",
       "      <td>0.0</td>\n",
       "      <td>0.0</td>\n",
       "      <td>0.0</td>\n",
       "      <td>0.0</td>\n",
       "      <td>1.0</td>\n",
       "      <td>0</td>\n",
       "    </tr>\n",
       "    <tr>\n",
       "      <td>1</td>\n",
       "      <td>0.918357</td>\n",
       "      <td>0.502234</td>\n",
       "      <td>0.154778</td>\n",
       "      <td>0.190322</td>\n",
       "      <td>0.824455</td>\n",
       "      <td>0.0</td>\n",
       "      <td>0.0</td>\n",
       "      <td>0.0</td>\n",
       "      <td>1.0</td>\n",
       "      <td>0.0</td>\n",
       "      <td>0.0</td>\n",
       "      <td>0.0</td>\n",
       "      <td>1.0</td>\n",
       "      <td>1</td>\n",
       "    </tr>\n",
       "    <tr>\n",
       "      <td>2</td>\n",
       "      <td>0.958225</td>\n",
       "      <td>0.094132</td>\n",
       "      <td>0.433793</td>\n",
       "      <td>0.469123</td>\n",
       "      <td>0.863455</td>\n",
       "      <td>1.0</td>\n",
       "      <td>0.0</td>\n",
       "      <td>0.0</td>\n",
       "      <td>0.0</td>\n",
       "      <td>0.0</td>\n",
       "      <td>0.0</td>\n",
       "      <td>0.0</td>\n",
       "      <td>0.0</td>\n",
       "      <td>5</td>\n",
       "    </tr>\n",
       "    <tr>\n",
       "      <td>3</td>\n",
       "      <td>0.947422</td>\n",
       "      <td>0.235321</td>\n",
       "      <td>0.340720</td>\n",
       "      <td>0.370906</td>\n",
       "      <td>0.752272</td>\n",
       "      <td>0.0</td>\n",
       "      <td>1.0</td>\n",
       "      <td>0.0</td>\n",
       "      <td>0.0</td>\n",
       "      <td>0.0</td>\n",
       "      <td>0.0</td>\n",
       "      <td>0.0</td>\n",
       "      <td>1.0</td>\n",
       "      <td>3</td>\n",
       "    </tr>\n",
       "    <tr>\n",
       "      <td>4</td>\n",
       "      <td>0.642050</td>\n",
       "      <td>0.496386</td>\n",
       "      <td>0.007351</td>\n",
       "      <td>0.020443</td>\n",
       "      <td>0.704999</td>\n",
       "      <td>0.0</td>\n",
       "      <td>0.0</td>\n",
       "      <td>0.0</td>\n",
       "      <td>1.0</td>\n",
       "      <td>0.0</td>\n",
       "      <td>0.0</td>\n",
       "      <td>0.0</td>\n",
       "      <td>1.0</td>\n",
       "      <td>1</td>\n",
       "    </tr>\n",
       "  </tbody>\n",
       "</table>\n",
       "</div>"
      ],
      "text/plain": [
       "      Angle  Direction  HangTime  LastTrackedDistance  ExitSpeed   3B  \\\n",
       "0  0.868350   0.275039  0.100554             0.121342   0.762034  0.0   \n",
       "1  0.918357   0.502234  0.154778             0.190322   0.824455  0.0   \n",
       "2  0.958225   0.094132  0.433793             0.469123   0.863455  1.0   \n",
       "3  0.947422   0.235321  0.340720             0.370906   0.752272  0.0   \n",
       "4  0.642050   0.496386  0.007351             0.020443   0.704999  0.0   \n",
       "\n",
       "   5_6_Hole   SS  Up_the_Middle   2B  3_4_Hole   1B  PlayResult  cluster #  \n",
       "0       0.0  1.0            0.0  0.0       0.0  0.0         1.0          0  \n",
       "1       0.0  0.0            1.0  0.0       0.0  0.0         1.0          1  \n",
       "2       0.0  0.0            0.0  0.0       0.0  0.0         0.0          5  \n",
       "3       1.0  0.0            0.0  0.0       0.0  0.0         1.0          3  \n",
       "4       0.0  0.0            1.0  0.0       0.0  0.0         1.0          1  "
      ]
     },
     "execution_count": 17,
     "metadata": {},
     "output_type": "execute_result"
    }
   ],
   "source": [
    "clusters.head()"
   ]
  },
  {
   "cell_type": "code",
   "execution_count": 18,
   "metadata": {},
   "outputs": [
    {
     "data": {
      "text/plain": [
       "0    78.537736\n",
       "1    21.462264\n",
       "Name: PlayResult, dtype: float64"
      ]
     },
     "execution_count": 18,
     "metadata": {},
     "output_type": "execute_result"
    }
   ],
   "source": [
    "cluster_0 = original.loc[original['cluster #'] == 0]\n",
    "cluster_0.to_csv('cluster_0.csv')\n",
    "cluster_0['PlayResult'].value_counts(normalize=True)*100"
   ]
  },
  {
   "cell_type": "code",
   "execution_count": 19,
   "metadata": {},
   "outputs": [
    {
     "data": {
      "text/plain": [
       "0    63.028953\n",
       "1    36.971047\n",
       "Name: PlayResult, dtype: float64"
      ]
     },
     "execution_count": 19,
     "metadata": {},
     "output_type": "execute_result"
    }
   ],
   "source": [
    "cluster_1 = original.loc[original['cluster #'] == 1]\n",
    "cluster_1.to_csv('cluster_1.csv')\n",
    "cluster_1['PlayResult'].value_counts(normalize=True)*100"
   ]
  },
  {
   "cell_type": "code",
   "execution_count": 20,
   "metadata": {},
   "outputs": [
    {
     "data": {
      "text/plain": [
       "0    79.42029\n",
       "1    20.57971\n",
       "Name: PlayResult, dtype: float64"
      ]
     },
     "execution_count": 20,
     "metadata": {},
     "output_type": "execute_result"
    }
   ],
   "source": [
    "cluster_2 = original.loc[original['cluster #'] == 2]\n",
    "cluster_2.to_csv('cluster_2.csv')\n",
    "cluster_2['PlayResult'].value_counts(normalize=True)*100"
   ]
  },
  {
   "cell_type": "code",
   "execution_count": 21,
   "metadata": {},
   "outputs": [
    {
     "data": {
      "text/plain": [
       "0    56.285714\n",
       "1    43.714286\n",
       "Name: PlayResult, dtype: float64"
      ]
     },
     "execution_count": 21,
     "metadata": {},
     "output_type": "execute_result"
    }
   ],
   "source": [
    "cluster_3 = original.loc[original['cluster #'] == 3]\n",
    "cluster_3.to_csv('cluster_3.csv')\n",
    "cluster_3['PlayResult'].value_counts(normalize=True)*100"
   ]
  },
  {
   "cell_type": "code",
   "execution_count": 22,
   "metadata": {},
   "outputs": [
    {
     "data": {
      "text/plain": [
       "0    61.19403\n",
       "1    38.80597\n",
       "Name: PlayResult, dtype: float64"
      ]
     },
     "execution_count": 22,
     "metadata": {},
     "output_type": "execute_result"
    }
   ],
   "source": [
    "cluster_4 = original.loc[original['cluster #'] == 4]\n",
    "cluster_4.to_csv('cluster_4.csv')\n",
    "cluster_4['PlayResult'].value_counts(normalize=True)*100"
   ]
  },
  {
   "cell_type": "code",
   "execution_count": 23,
   "metadata": {},
   "outputs": [
    {
     "data": {
      "text/plain": [
       "0    78.54251\n",
       "1    21.45749\n",
       "Name: PlayResult, dtype: float64"
      ]
     },
     "execution_count": 23,
     "metadata": {},
     "output_type": "execute_result"
    }
   ],
   "source": [
    "cluster_5 = original.loc[original['cluster #'] == 5]\n",
    "cluster_5.to_csv('cluster_5.csv')\n",
    "cluster_5['PlayResult'].value_counts(normalize=True)*100"
   ]
  },
  {
   "cell_type": "code",
   "execution_count": 24,
   "metadata": {},
   "outputs": [
    {
     "data": {
      "text/plain": [
       "0    85.638298\n",
       "1    14.361702\n",
       "Name: PlayResult, dtype: float64"
      ]
     },
     "execution_count": 24,
     "metadata": {},
     "output_type": "execute_result"
    }
   ],
   "source": [
    "cluster_6 = original.loc[original['cluster #'] == 6]\n",
    "cluster_6.to_csv('cluster_6.csv')\n",
    "cluster_6['PlayResult'].value_counts(normalize=True)*100"
   ]
  },
  {
   "cell_type": "code",
   "execution_count": 25,
   "metadata": {},
   "outputs": [
    {
     "data": {
      "text/plain": [
       "Series([], Name: PlayResult, dtype: float64)"
      ]
     },
     "execution_count": 25,
     "metadata": {},
     "output_type": "execute_result"
    }
   ],
   "source": [
    "cluster_7 = original.loc[original['cluster #'] == 7]\n",
    "cluster_7.to_csv('cluster_7.csv')\n",
    "cluster_7['PlayResult'].value_counts(normalize=True)*100"
   ]
  },
  {
   "cell_type": "code",
   "execution_count": 26,
   "metadata": {},
   "outputs": [
    {
     "data": {
      "text/plain": [
       "Series([], Name: PlayResult, dtype: float64)"
      ]
     },
     "execution_count": 26,
     "metadata": {},
     "output_type": "execute_result"
    }
   ],
   "source": [
    "cluster_8 = original.loc[original['cluster #'] == 8]\n",
    "cluster_8.to_csv('cluster_8.csv')\n",
    "cluster_8['PlayResult'].value_counts(normalize=True)*100"
   ]
  },
  {
   "cell_type": "code",
   "execution_count": 27,
   "metadata": {},
   "outputs": [
    {
     "data": {
      "text/plain": [
       "Series([], Name: PlayResult, dtype: float64)"
      ]
     },
     "execution_count": 27,
     "metadata": {},
     "output_type": "execute_result"
    }
   ],
   "source": [
    "cluster_9 = original.loc[original['cluster #'] == 9]\n",
    "cluster_9.to_csv('cluster_9.csv')\n",
    "cluster_9['PlayResult'].value_counts(normalize=True)*100"
   ]
  },
  {
   "cell_type": "code",
   "execution_count": 28,
   "metadata": {},
   "outputs": [
    {
     "data": {
      "text/plain": [
       "Angle           -1.029092e+01\n",
       "Balls            1.081292e+00\n",
       "BatterId         1.870258e+08\n",
       "BatterSide       6.191537e-01\n",
       "Bearing          3.289803e-02\n",
       "                     ...     \n",
       "Up_the_Middle    1.000000e+00\n",
       "2B               0.000000e+00\n",
       "3_4_Hole         0.000000e+00\n",
       "1B               0.000000e+00\n",
       "cluster #        1.000000e+00\n",
       "Length: 61, dtype: float64"
      ]
     },
     "execution_count": 28,
     "metadata": {},
     "output_type": "execute_result"
    }
   ],
   "source": [
    "cluster_1.mean(axis=0)"
   ]
  },
  {
   "cell_type": "code",
   "execution_count": 29,
   "metadata": {},
   "outputs": [
    {
     "data": {
      "text/plain": [
       "Angle           -9.687384e+00\n",
       "Balls            1.002899e+00\n",
       "BatterId         2.209993e+08\n",
       "BatterSide       4.347826e-01\n",
       "Bearing          1.521364e+01\n",
       "                     ...     \n",
       "Up_the_Middle    0.000000e+00\n",
       "2B               1.000000e+00\n",
       "3_4_Hole         0.000000e+00\n",
       "1B               0.000000e+00\n",
       "cluster #        2.000000e+00\n",
       "Length: 61, dtype: float64"
      ]
     },
     "execution_count": 29,
     "metadata": {},
     "output_type": "execute_result"
    }
   ],
   "source": [
    "cluster_2.mean(axis=0)"
   ]
  },
  {
   "cell_type": "code",
   "execution_count": 30,
   "metadata": {},
   "outputs": [
    {
     "data": {
      "text/plain": [
       "Angle           -1.122548e+01\n",
       "Balls            1.051429e+00\n",
       "BatterId         1.837992e+08\n",
       "BatterSide       8.742857e-01\n",
       "Bearing         -2.401274e+01\n",
       "                     ...     \n",
       "Up_the_Middle    0.000000e+00\n",
       "2B               0.000000e+00\n",
       "3_4_Hole         0.000000e+00\n",
       "1B               0.000000e+00\n",
       "cluster #        3.000000e+00\n",
       "Length: 61, dtype: float64"
      ]
     },
     "execution_count": 30,
     "metadata": {},
     "output_type": "execute_result"
    }
   ],
   "source": [
    "cluster_3.mean(axis=0)"
   ]
  },
  {
   "cell_type": "code",
   "execution_count": 31,
   "metadata": {},
   "outputs": [
    {
     "data": {
      "text/plain": [
       "Angle           -1.141230e+01\n",
       "Balls            1.067164e+00\n",
       "BatterId         2.261825e+08\n",
       "BatterSide       3.022388e-01\n",
       "Bearing          2.469384e+01\n",
       "                     ...     \n",
       "Up_the_Middle    0.000000e+00\n",
       "2B               0.000000e+00\n",
       "3_4_Hole         1.000000e+00\n",
       "1B               0.000000e+00\n",
       "cluster #        4.000000e+00\n",
       "Length: 61, dtype: float64"
      ]
     },
     "execution_count": 31,
     "metadata": {},
     "output_type": "execute_result"
    }
   ],
   "source": [
    "cluster_4.mean(axis=0)"
   ]
  },
  {
   "cell_type": "code",
   "execution_count": 32,
   "metadata": {},
   "outputs": [
    {
     "data": {
      "text/plain": [
       "Angle           -1.354388e+01\n",
       "Balls            1.214575e+00\n",
       "BatterId         1.488648e+08\n",
       "BatterSide       8.704453e-01\n",
       "Bearing         -3.326612e+01\n",
       "                     ...     \n",
       "Up_the_Middle    0.000000e+00\n",
       "2B               0.000000e+00\n",
       "3_4_Hole         0.000000e+00\n",
       "1B               0.000000e+00\n",
       "cluster #        5.000000e+00\n",
       "Length: 61, dtype: float64"
      ]
     },
     "execution_count": 32,
     "metadata": {},
     "output_type": "execute_result"
    }
   ],
   "source": [
    "cluster_5.mean(axis=0)"
   ]
  },
  {
   "cell_type": "code",
   "execution_count": 33,
   "metadata": {},
   "outputs": [
    {
     "data": {
      "text/plain": [
       "Angle           -1.549483e+01\n",
       "Balls            9.574468e-01\n",
       "BatterId         2.400766e+08\n",
       "BatterSide       2.606383e-01\n",
       "Bearing          3.226381e+01\n",
       "                     ...     \n",
       "Up_the_Middle    0.000000e+00\n",
       "2B               0.000000e+00\n",
       "3_4_Hole         0.000000e+00\n",
       "1B               1.000000e+00\n",
       "cluster #        6.000000e+00\n",
       "Length: 61, dtype: float64"
      ]
     },
     "execution_count": 33,
     "metadata": {},
     "output_type": "execute_result"
    }
   ],
   "source": [
    "cluster_6.mean(axis=0)"
   ]
  },
  {
   "cell_type": "code",
   "execution_count": 34,
   "metadata": {},
   "outputs": [
    {
     "name": "stdout",
     "output_type": "stream",
     "text": [
      "<class 'pandas.core.frame.DataFrame'>\n",
      "RangeIndex: 2720 entries, 0 to 2719\n",
      "Data columns (total 14 columns):\n",
      "Angle                  2720 non-null float64\n",
      "Direction              2720 non-null float64\n",
      "HangTime               2720 non-null float64\n",
      "LastTrackedDistance    2720 non-null float64\n",
      "ExitSpeed              2720 non-null float64\n",
      "3B                     2720 non-null float64\n",
      "5_6_Hole               2720 non-null float64\n",
      "SS                     2720 non-null float64\n",
      "Up_the_Middle          2720 non-null float64\n",
      "2B                     2720 non-null float64\n",
      "3_4_Hole               2720 non-null float64\n",
      "1B                     2720 non-null float64\n",
      "PlayResult             2720 non-null float64\n",
      "cluster #              2720 non-null int64\n",
      "dtypes: float64(13), int64(1)\n",
      "memory usage: 297.6 KB\n"
     ]
    }
   ],
   "source": [
    "clusters.info()"
   ]
  },
  {
   "cell_type": "code",
   "execution_count": 35,
   "metadata": {},
   "outputs": [
    {
     "data": {
      "text/plain": [
       "<matplotlib.collections.PathCollection at 0x1174ea410>"
      ]
     },
     "execution_count": 35,
     "metadata": {},
     "output_type": "execute_result"
    },
    {
     "data": {
      "image/png": "[encoded data removed]",
      "text/plain": [
       "<Figure size 432x288 with 1 Axes>"
      ]
     },
     "metadata": {
      "needs_background": "light"
     },
     "output_type": "display_data"
    }
   ],
   "source": [
    "# Graph each variable against Play Result\n",
    "plt.scatter(cluster_0['Angle'], cluster_0['PlayResult'],alpha=0.5)"
   ]
  },
  {
   "cell_type": "code",
   "execution_count": 36,
   "metadata": {},
   "outputs": [
    {
     "data": {
      "text/plain": [
       "<matplotlib.collections.PathCollection at 0x117ed5bd0>"
      ]
     },
     "execution_count": 36,
     "metadata": {},
     "output_type": "execute_result"
    },
    {
     "data": {
      "image/png": "[encoded data removed]",
      "text/plain": [
       "<Figure size 432x288 with 1 Axes>"
      ]
     },
     "metadata": {
      "needs_background": "light"
     },
     "output_type": "display_data"
    }
   ],
   "source": [
    "plt.scatter(cluster_0['PositionAt110Y'], cluster_0['PlayResult'],alpha=0.5)"
   ]
  },
  {
   "cell_type": "code",
   "execution_count": 37,
   "metadata": {},
   "outputs": [
    {
     "data": {
      "text/plain": [
       "<matplotlib.collections.PathCollection at 0x1181dae50>"
      ]
     },
     "execution_count": 37,
     "metadata": {},
     "output_type": "execute_result"
    },
    {
     "data": {
      "image/png": "[encoded data removed]",
      "text/plain": [
       "<Figure size 432x288 with 1 Axes>"
      ]
     },
     "metadata": {
      "needs_background": "light"
     },
     "output_type": "display_data"
    }
   ],
   "source": [
    "plt.scatter(cluster_0['HangTime'], cluster_0['PlayResult'],alpha=0.5)"
   ]
  },
  {
   "cell_type": "code",
   "execution_count": 38,
   "metadata": {},
   "outputs": [
    {
     "data": {
      "text/plain": [
       "<matplotlib.collections.PathCollection at 0x11820ae10>"
      ]
     },
     "execution_count": 38,
     "metadata": {},
     "output_type": "execute_result"
    },
    {
     "data": {
      "image/png": "[encoded data removed]",
      "text/plain": [
       "<Figure size 432x288 with 1 Axes>"
      ]
     },
     "metadata": {
      "needs_background": "light"
     },
     "output_type": "display_data"
    }
   ],
   "source": [
    "plt.scatter(cluster_0['HitSpinRate'], cluster_0['PlayResult'],alpha=0.5)"
   ]
  },
  {
   "cell_type": "code",
   "execution_count": 39,
   "metadata": {},
   "outputs": [
    {
     "data": {
      "text/plain": [
       "<matplotlib.collections.PathCollection at 0x117c3cb90>"
      ]
     },
     "execution_count": 39,
     "metadata": {},
     "output_type": "execute_result"
    },
    {
     "data": {
      "image/png": "[encoded data removed]",
      "text/plain": [
       "<Figure size 432x288 with 1 Axes>"
      ]
     },
     "metadata": {
      "needs_background": "light"
     },
     "output_type": "display_data"
    }
   ],
   "source": [
    "plt.scatter(cluster_0['PositionAt110X'], cluster_0['PlayResult'],alpha=0.5)"
   ]
  },
  {
   "cell_type": "code",
   "execution_count": 40,
   "metadata": {},
   "outputs": [
    {
     "data": {
      "text/plain": [
       "<matplotlib.collections.PathCollection at 0x118f32110>"
      ]
     },
     "execution_count": 40,
     "metadata": {},
     "output_type": "execute_result"
    },
    {
     "data": {
      "image/png": "[encoded data removed]",
      "text/plain": [
       "<Figure size 432x288 with 1 Axes>"
      ]
     },
     "metadata": {
      "needs_background": "light"
     },
     "output_type": "display_data"
    }
   ],
   "source": [
    "plt.scatter(cluster_0['LastTrackedDistance'], cluster_0['PlayResult'],alpha=0.5)"
   ]
  },
  {
   "cell_type": "code",
   "execution_count": 41,
   "metadata": {},
   "outputs": [
    {
     "data": {
      "text/plain": [
       "<matplotlib.collections.PathCollection at 0x118fdde90>"
      ]
     },
     "execution_count": 41,
     "metadata": {},
     "output_type": "execute_result"
    },
    {
     "data": {
      "image/png": "[encoded data removed]",
      "text/plain": [
       "<Figure size 432x288 with 1 Axes>"
      ]
     },
     "metadata": {
      "needs_background": "light"
     },
     "output_type": "display_data"
    }
   ],
   "source": [
    "plt.scatter(cluster_0['ExitSpeed'], cluster_0['PlayResult'],alpha=0.5)"
   ]
  },
  {
   "cell_type": "code",
   "execution_count": 42,
   "metadata": {},
   "outputs": [
    {
     "data": {
      "text/plain": [
       "<matplotlib.collections.PathCollection at 0x11a21bf90>"
      ]
     },
     "execution_count": 42,
     "metadata": {},
     "output_type": "execute_result"
    },
    {
     "data": {
      "image/png": "[encoded data removed]",
      "text/plain": [
       "<Figure size 432x288 with 1 Axes>"
      ]
     },
     "metadata": {
      "needs_background": "light"
     },
     "output_type": "display_data"
    }
   ],
   "source": [
    "plt.scatter(cluster_0['Bearing'], cluster_0['PlayResult'],alpha=0.5)"
   ]
  },
  {
   "cell_type": "code",
   "execution_count": 43,
   "metadata": {},
   "outputs": [],
   "source": [
    "cluster_0_analysis = cluster_0.mean(axis = 0)"
   ]
  },
  {
   "cell_type": "code",
   "execution_count": 44,
   "metadata": {},
   "outputs": [],
   "source": [
    "cluster_1_analysis = cluster_1.mean(axis = 0)"
   ]
  },
  {
   "cell_type": "code",
   "execution_count": 45,
   "metadata": {},
   "outputs": [],
   "source": [
    "cluster_2_analysis = cluster_2.mean(axis = 0)"
   ]
  },
  {
   "cell_type": "code",
   "execution_count": 46,
   "metadata": {},
   "outputs": [],
   "source": [
    "cluster_3_analysis = cluster_3.mean(axis = 0)"
   ]
  },
  {
   "cell_type": "code",
   "execution_count": 47,
   "metadata": {},
   "outputs": [],
   "source": [
    "cluster_4_analysis = cluster_4.mean(axis = 0)"
   ]
  },
  {
   "cell_type": "code",
   "execution_count": 48,
   "metadata": {},
   "outputs": [],
   "source": [
    "cluster_5_analysis = cluster_5.mean(axis = 0)"
   ]
  },
  {
   "cell_type": "code",
   "execution_count": 49,
   "metadata": {},
   "outputs": [],
   "source": [
    "cluster_6_analysis = cluster_6.mean(axis = 0)"
   ]
  },
  {
   "cell_type": "code",
   "execution_count": 50,
   "metadata": {},
   "outputs": [],
   "source": [
    "cluster_7_analysis = cluster_7.mean(axis = 0)"
   ]
  },
  {
   "cell_type": "code",
   "execution_count": 51,
   "metadata": {},
   "outputs": [],
   "source": [
    "cluster_8_analysis = cluster_8.mean(axis = 0)"
   ]
  },
  {
   "cell_type": "code",
   "execution_count": 52,
   "metadata": {},
   "outputs": [],
   "source": [
    "cluster_9_analysis = cluster_9.mean(axis = 0)"
   ]
  },
  {
   "cell_type": "code",
   "execution_count": 53,
   "metadata": {},
   "outputs": [
    {
     "data": {
      "text/plain": [
       "Angle           NaN\n",
       "Balls           NaN\n",
       "BatterId        NaN\n",
       "BatterSide      NaN\n",
       "Bearing         NaN\n",
       "                 ..\n",
       "Up_the_Middle   NaN\n",
       "2B              NaN\n",
       "3_4_Hole        NaN\n",
       "1B              NaN\n",
       "cluster #       NaN\n",
       "Length: 61, dtype: float64"
      ]
     },
     "execution_count": 53,
     "metadata": {},
     "output_type": "execute_result"
    }
   ],
   "source": [
    "cluster_7.mean(axis = 0)"
   ]
  },
  {
   "cell_type": "code",
   "execution_count": 54,
   "metadata": {},
   "outputs": [
    {
     "data": {
      "text/plain": [
       "Series([], Name: PlayResult, dtype: int64)"
      ]
     },
     "execution_count": 54,
     "metadata": {},
     "output_type": "execute_result"
    }
   ],
   "source": [
    "cluster_7.PlayResult.value_counts()"
   ]
  },
  {
   "cell_type": "code",
   "execution_count": 55,
   "metadata": {},
   "outputs": [
    {
     "data": {
      "text/plain": [
       "Angle           -1.089861e+01\n",
       "Balls            1.030660e+00\n",
       "BatterId         1.931750e+08\n",
       "BatterSide       7.617925e-01\n",
       "Bearing         -1.445136e+01\n",
       "                     ...     \n",
       "Up_the_Middle    0.000000e+00\n",
       "2B               0.000000e+00\n",
       "3_4_Hole         0.000000e+00\n",
       "1B               0.000000e+00\n",
       "cluster #        0.000000e+00\n",
       "Length: 61, dtype: float64"
      ]
     },
     "execution_count": 55,
     "metadata": {},
     "output_type": "execute_result"
    }
   ],
   "source": [
    "cluster_0_analysis"
   ]
  },
  {
   "cell_type": "code",
   "execution_count": 56,
   "metadata": {},
   "outputs": [],
   "source": [
    "#Cluster_Angle = (cluster_0_analysis['Angle'],cluster_1_analysis['Angle'],cluster_2_analysis['Angle'],cluster_3_analysis['Angle'],cluster_4_analysis['Angle'],cluster_5_analysis['Angle'],cluster_6_analysis['Angle'])\n",
    "Cluster_Angle = (cluster_0_analysis['Angle'],cluster_1_analysis['Angle'],cluster_2_analysis['Angle'],cluster_3_analysis['Angle'],cluster_4_analysis['Angle'],cluster_5_analysis['Angle'],cluster_6_analysis['Angle'],cluster_7_analysis['Angle'],cluster_8_analysis['Angle'],cluster_9_analysis['Angle'])"
   ]
  },
  {
   "cell_type": "code",
   "execution_count": 57,
   "metadata": {},
   "outputs": [
    {
     "data": {
      "text/plain": [
       "(-10.898609048599061,\n",
       " -10.290920805858566,\n",
       " -9.687383767414497,\n",
       " -11.225483923648577,\n",
       " -11.412301400697762,\n",
       " -13.543880598506062,\n",
       " -15.494832390930851,\n",
       " nan,\n",
       " nan,\n",
       " nan)"
      ]
     },
     "execution_count": 57,
     "metadata": {},
     "output_type": "execute_result"
    }
   ],
   "source": [
    "Cluster_Angle"
   ]
  },
  {
   "cell_type": "code",
   "execution_count": 58,
   "metadata": {},
   "outputs": [],
   "source": [
    "Cluster_PositionAt110Y = (cluster_0_analysis['PositionAt110Y'],cluster_1_analysis['PositionAt110Y'],cluster_2_analysis['PositionAt110Y'],cluster_3_analysis['PositionAt110Y'],cluster_4_analysis['PositionAt110Y'],cluster_5_analysis['PositionAt110Y'],cluster_6_analysis['PositionAt110Y'],cluster_7_analysis['PositionAt110Y'],cluster_8_analysis['PositionAt110Y'],cluster_9_analysis['PositionAt110Y'])"
   ]
  },
  {
   "cell_type": "code",
   "execution_count": 59,
   "metadata": {},
   "outputs": [],
   "source": [
    "Cluster_HangTime = (cluster_0_analysis['HangTime'],cluster_1_analysis['HangTime'],cluster_2_analysis['HangTime'],cluster_3_analysis['HangTime'],cluster_4_analysis['HangTime'],cluster_5_analysis['HangTime'],cluster_6_analysis['HangTime'],cluster_7_analysis['HangTime'],cluster_8_analysis['HangTime'],cluster_9_analysis['HangTime'])"
   ]
  },
  {
   "cell_type": "code",
   "execution_count": 60,
   "metadata": {},
   "outputs": [],
   "source": [
    "Cluster_HitSpinRate = (cluster_0_analysis['HitSpinRate'],cluster_1_analysis['HitSpinRate'],cluster_2_analysis['HitSpinRate'],cluster_3_analysis['HitSpinRate'],cluster_4_analysis['HitSpinRate'],cluster_5_analysis['HitSpinRate'],cluster_6_analysis['HitSpinRate'],cluster_7_analysis['HitSpinRate'],cluster_8_analysis['HitSpinRate'],cluster_9_analysis['HitSpinRate'])"
   ]
  },
  {
   "cell_type": "code",
   "execution_count": 61,
   "metadata": {},
   "outputs": [],
   "source": [
    "Cluster_PositionAt110X = (cluster_0_analysis['PositionAt110X'],cluster_1_analysis['PositionAt110X'],cluster_2_analysis['PositionAt110X'],cluster_3_analysis['PositionAt110X'],cluster_4_analysis['PositionAt110X'],cluster_5_analysis['PositionAt110X'],cluster_6_analysis['PositionAt110X'],cluster_7_analysis['PositionAt110X'],cluster_8_analysis['PositionAt110X'],cluster_9_analysis['PositionAt110X'])"
   ]
  },
  {
   "cell_type": "code",
   "execution_count": 62,
   "metadata": {},
   "outputs": [],
   "source": [
    "Cluster_LastTrackedDistance = (cluster_0_analysis['LastTrackedDistance'],cluster_1_analysis['LastTrackedDistance'],cluster_2_analysis['LastTrackedDistance'],cluster_3_analysis['LastTrackedDistance'],cluster_4_analysis['LastTrackedDistance'],cluster_5_analysis['LastTrackedDistance'],cluster_6_analysis['LastTrackedDistance'],cluster_7_analysis['LastTrackedDistance'],cluster_8_analysis['LastTrackedDistance'],cluster_9_analysis['LastTrackedDistance'])"
   ]
  },
  {
   "cell_type": "code",
   "execution_count": 63,
   "metadata": {},
   "outputs": [],
   "source": [
    "Cluster_ExitSpeed = (cluster_0_analysis['ExitSpeed'],cluster_1_analysis['ExitSpeed'],cluster_2_analysis['ExitSpeed'],cluster_3_analysis['ExitSpeed'],cluster_4_analysis['ExitSpeed'],cluster_5_analysis['ExitSpeed'],cluster_6_analysis['ExitSpeed'],cluster_7_analysis['ExitSpeed'],cluster_8_analysis['ExitSpeed'],cluster_9_analysis['ExitSpeed'])"
   ]
  },
  {
   "cell_type": "code",
   "execution_count": 64,
   "metadata": {},
   "outputs": [],
   "source": [
    "Cluster_Bearing = (cluster_0_analysis['Bearing'],cluster_1_analysis['Bearing'],cluster_2_analysis['Bearing'],cluster_3_analysis['Bearing'],cluster_4_analysis['Bearing'],cluster_5_analysis['Bearing'],cluster_6_analysis['Bearing'],cluster_7_analysis['Bearing'],cluster_8_analysis['Bearing'],cluster_9_analysis['Bearing'])"
   ]
  },
  {
   "cell_type": "code",
   "execution_count": 65,
   "metadata": {},
   "outputs": [],
   "source": [
    "Cluster_PlayResult= (cluster_0_analysis['PlayResult'],cluster_1_analysis['PlayResult'],cluster_2_analysis['PlayResult'],cluster_3_analysis['PlayResult'],cluster_4_analysis['PlayResult'],cluster_5_analysis['PlayResult'],cluster_6_analysis['PlayResult'],cluster_7_analysis['PlayResult'],cluster_8_analysis['PlayResult'],cluster_9_analysis['PlayResult'])"
   ]
  },
  {
   "cell_type": "code",
   "execution_count": 66,
   "metadata": {},
   "outputs": [],
   "source": [
    "Cluster_cluster = (cluster_0_analysis['cluster #'],cluster_1_analysis['cluster #'],cluster_2_analysis['cluster #'],cluster_3_analysis['cluster #'],cluster_4_analysis['cluster #'],cluster_5_analysis['cluster #'],cluster_6_analysis['cluster #'],cluster_7_analysis['cluster #'],cluster_8_analysis['cluster #'],cluster_9_analysis['cluster #'])"
   ]
  },
  {
   "cell_type": "code",
   "execution_count": 67,
   "metadata": {},
   "outputs": [],
   "source": [
    "# Plot each mean vs hit prob for each cluster"
   ]
  },
  {
   "cell_type": "code",
   "execution_count": 68,
   "metadata": {
    "scrolled": true
   },
   "outputs": [
    {
     "data": {
      "image/png": "[encoded data removed]",
      "text/plain": [
       "<Figure size 432x288 with 1 Axes>"
      ]
     },
     "metadata": {
      "needs_background": "light"
     },
     "output_type": "display_data"
    }
   ],
   "source": [
    "plt.scatter(Cluster_Angle, Cluster_PlayResult,alpha=0.5)\n",
    "plt.xlabel('Launch Angle')\n",
    "plt.ylabel('Hit Probability')\n",
    "plt.title('Cluster Analysis')\n",
    "plt.axhline(y=0.5)\n",
    "plt.savefig('launch_angle.png')"
   ]
  },
  {
   "cell_type": "code",
   "execution_count": 69,
   "metadata": {},
   "outputs": [
    {
     "data": {
      "image/png": "[encoded data removed]",
      "text/plain": [
       "<Figure size 432x288 with 1 Axes>"
      ]
     },
     "metadata": {
      "needs_background": "light"
     },
     "output_type": "display_data"
    }
   ],
   "source": [
    "plt.scatter(Cluster_PositionAt110Y, Cluster_PlayResult,alpha=0.5)\n",
    "plt.xlabel('Position at 110Y')\n",
    "plt.ylabel('Hit Probability')\n",
    "plt.title('Cluster Analysis')\n",
    "plt.axhline(y=0.5)\n",
    "plt.savefig('pos_at_110Y.png')"
   ]
  },
  {
   "cell_type": "code",
   "execution_count": 70,
   "metadata": {},
   "outputs": [
    {
     "data": {
      "image/png": "[encoded data removed]",
      "text/plain": [
       "<Figure size 432x288 with 1 Axes>"
      ]
     },
     "metadata": {
      "needs_background": "light"
     },
     "output_type": "display_data"
    }
   ],
   "source": [
    "plt.scatter(Cluster_HangTime, Cluster_PlayResult,alpha=0.5)\n",
    "plt.xlabel('Hang Time')\n",
    "plt.ylabel('Hit Probability')\n",
    "plt.title('Cluster Analysis')\n",
    "plt.axhline(y=0.5)\n",
    "plt.savefig('hang_time.png')"
   ]
  },
  {
   "cell_type": "code",
   "execution_count": 71,
   "metadata": {},
   "outputs": [
    {
     "data": {
      "image/png": "[encoded data removed]",
      "text/plain": [
       "<Figure size 432x288 with 1 Axes>"
      ]
     },
     "metadata": {
      "needs_background": "light"
     },
     "output_type": "display_data"
    }
   ],
   "source": [
    "plt.scatter(Cluster_HitSpinRate, Cluster_PlayResult,alpha=0.5)\n",
    "plt.xlabel('Hit Spin Rate')\n",
    "plt.ylabel('Hit Probability')\n",
    "plt.title('Cluster Analysis')\n",
    "plt.axhline(y=0.5)\n",
    "plt.savefig('spin_rate.png')"
   ]
  },
  {
   "cell_type": "code",
   "execution_count": 72,
   "metadata": {},
   "outputs": [
    {
     "data": {
      "image/png": "[encoded data removed]",
      "text/plain": [
       "<Figure size 432x288 with 1 Axes>"
      ]
     },
     "metadata": {
      "needs_background": "light"
     },
     "output_type": "display_data"
    }
   ],
   "source": [
    "plt.scatter(Cluster_PositionAt110X, Cluster_PlayResult,alpha=0.5)\n",
    "plt.xlabel('Position at 110X')\n",
    "plt.ylabel('Hit Probability')\n",
    "plt.title('Cluster Analysis')\n",
    "plt.axhline(y=0.5)\n",
    "plt.savefig('pos_at_110X.png')"
   ]
  },
  {
   "cell_type": "code",
   "execution_count": 73,
   "metadata": {},
   "outputs": [
    {
     "data": {
      "image/png": "[encoded data removed]",
      "text/plain": [
       "<Figure size 432x288 with 1 Axes>"
      ]
     },
     "metadata": {
      "needs_background": "light"
     },
     "output_type": "display_data"
    }
   ],
   "source": [
    "plt.scatter(Cluster_LastTrackedDistance, Cluster_PlayResult,alpha=0.5)\n",
    "plt.xlabel('Last Tracked Distance')\n",
    "plt.ylabel('Hit Probability')\n",
    "plt.title('Cluster Analysis')\n",
    "plt.axhline(y=0.5)\n",
    "plt.savefig('last_tracked_distance.png')"
   ]
  },
  {
   "cell_type": "code",
   "execution_count": 74,
   "metadata": {},
   "outputs": [
    {
     "data": {
      "image/png": "[encoded data removed]",
      "text/plain": [
       "<Figure size 432x288 with 1 Axes>"
      ]
     },
     "metadata": {
      "needs_background": "light"
     },
     "output_type": "display_data"
    }
   ],
   "source": [
    "plt.scatter(Cluster_ExitSpeed, Cluster_PlayResult,alpha=0.5)\n",
    "plt.xlabel('Exit Speed')\n",
    "plt.ylabel('Hit Probability')\n",
    "plt.title('Cluster Analysis')\n",
    "plt.axhline(y=0.5)\n",
    "plt.savefig('exit_speed.png')"
   ]
  },
  {
   "cell_type": "code",
   "execution_count": 75,
   "metadata": {},
   "outputs": [
    {
     "data": {
      "image/png": "[encoded data removed]",
      "text/plain": [
       "<Figure size 432x288 with 1 Axes>"
      ]
     },
     "metadata": {
      "needs_background": "light"
     },
     "output_type": "display_data"
    }
   ],
   "source": [
    "plt.scatter(Cluster_Bearing, Cluster_PlayResult,alpha=0.5)\n",
    "plt.xlabel('Bearing')\n",
    "plt.ylabel('Hit Probability')\n",
    "plt.title('Cluster Analysis')\n",
    "plt.axhline(y=0.5)\n",
    "plt.savefig('bearing.png')"
   ]
  },
  {
   "cell_type": "code",
   "execution_count": 76,
   "metadata": {},
   "outputs": [
    {
     "data": {
      "image/png": "[encoded data removed]",
      "text/plain": [
       "<Figure size 432x288 with 1 Axes>"
      ]
     },
     "metadata": {
      "needs_background": "light"
     },
     "output_type": "display_data"
    }
   ],
   "source": [
    "plt.scatter(Cluster_cluster, Cluster_PlayResult,alpha=0.5)\n",
    "plt.xlabel('Cluster #')\n",
    "plt.ylabel('Hit Probability')\n",
    "plt.title('Cluster Analysis')\n",
    "plt.axhline(y=0.30)\n",
    "plt.axhline(y=0.70)\n",
    "plt.savefig('hit_prob.png')"
   ]
  },
  {
   "cell_type": "code",
   "execution_count": 77,
   "metadata": {},
   "outputs": [
    {
     "data": {
      "text/plain": [
       "(-10.898609048599061,\n",
       " -10.290920805858566,\n",
       " -9.687383767414497,\n",
       " -11.225483923648577,\n",
       " -11.412301400697762,\n",
       " -13.543880598506062,\n",
       " -15.494832390930851,\n",
       " nan,\n",
       " nan,\n",
       " nan)"
      ]
     },
     "execution_count": 77,
     "metadata": {},
     "output_type": "execute_result"
    }
   ],
   "source": [
    "Cluster_Angle"
   ]
  },
  {
   "cell_type": "code",
   "execution_count": 78,
   "metadata": {},
   "outputs": [],
   "source": [
    "data = (Cluster_Bearing,\n",
    "        Cluster_Angle,\n",
    "        Cluster_ExitSpeed,\n",
    "        Cluster_HitSpinRate,\n",
    "        Cluster_HangTime,\n",
    "        Cluster_PositionAt110Y,\n",
    "        Cluster_PositionAt110X,\n",
    "        Cluster_LastTrackedDistance,\n",
    "        Cluster_PlayResult)"
   ]
  },
  {
   "cell_type": "code",
   "execution_count": 79,
   "metadata": {},
   "outputs": [],
   "source": [
    "df = pd.DataFrame(data, columns = ['Cluster 1',\n",
    "                                   'Cluster 2',\n",
    "                                   'Cluster 3',\n",
    "                                   'Cluster 4',\n",
    "                                   'Cluster 5',\n",
    "                                   'Cluster 6',\n",
    "                                   'Cluster 7',\n",
    "                                   'Cluster 8',\n",
    "                                   'Cluster 9',\n",
    "                                  'Cluster 10']) \n",
    "df = df.T\n",
    "df.columns = ('Bearing','Launch Angle','Exit Speed','Hit Spin Rate','Hang Time','Position at 110Y','Position at 110X','Last Tracked Distance','Play Result')"
   ]
  },
  {
   "cell_type": "code",
   "execution_count": 80,
   "metadata": {},
   "outputs": [
    {
     "data": {
      "text/html": [
       "<div>\n",
       "<style scoped>\n",
       "    .dataframe tbody tr th:only-of-type {\n",
       "        vertical-align: middle;\n",
       "    }\n",
       "\n",
       "    .dataframe tbody tr th {\n",
       "        vertical-align: top;\n",
       "    }\n",
       "\n",
       "    .dataframe thead th {\n",
       "        text-align: right;\n",
       "    }\n",
       "</style>\n",
       "<table border=\"1\" class=\"dataframe\">\n",
       "  <thead>\n",
       "    <tr style=\"text-align: right;\">\n",
       "      <th></th>\n",
       "      <th>Bearing</th>\n",
       "      <th>Launch Angle</th>\n",
       "      <th>Exit Speed</th>\n",
       "      <th>Hit Spin Rate</th>\n",
       "      <th>Hang Time</th>\n",
       "      <th>Position at 110Y</th>\n",
       "      <th>Position at 110X</th>\n",
       "      <th>Last Tracked Distance</th>\n",
       "      <th>Play Result</th>\n",
       "    </tr>\n",
       "  </thead>\n",
       "  <tbody>\n",
       "    <tr>\n",
       "      <td>Cluster 1</td>\n",
       "      <td>-14.451363</td>\n",
       "      <td>-10.898609</td>\n",
       "      <td>87.811537</td>\n",
       "      <td>1992.543715</td>\n",
       "      <td>0.224883</td>\n",
       "      <td>1.790329</td>\n",
       "      <td>103.745201</td>\n",
       "      <td>27.473359</td>\n",
       "      <td>0.214623</td>\n",
       "    </tr>\n",
       "    <tr>\n",
       "      <td>Cluster 2</td>\n",
       "      <td>0.032898</td>\n",
       "      <td>-10.290921</td>\n",
       "      <td>89.023104</td>\n",
       "      <td>1417.437847</td>\n",
       "      <td>0.224397</td>\n",
       "      <td>1.821177</td>\n",
       "      <td>108.887258</td>\n",
       "      <td>27.186623</td>\n",
       "      <td>0.369710</td>\n",
       "    </tr>\n",
       "    <tr>\n",
       "      <td>Cluster 3</td>\n",
       "      <td>15.213641</td>\n",
       "      <td>-9.687384</td>\n",
       "      <td>88.089871</td>\n",
       "      <td>2271.459386</td>\n",
       "      <td>0.243511</td>\n",
       "      <td>1.575137</td>\n",
       "      <td>102.576139</td>\n",
       "      <td>29.572581</td>\n",
       "      <td>0.205797</td>\n",
       "    </tr>\n",
       "    <tr>\n",
       "      <td>Cluster 4</td>\n",
       "      <td>-24.012744</td>\n",
       "      <td>-11.225484</td>\n",
       "      <td>85.509444</td>\n",
       "      <td>2651.392075</td>\n",
       "      <td>0.214259</td>\n",
       "      <td>0.777103</td>\n",
       "      <td>95.014123</td>\n",
       "      <td>25.978235</td>\n",
       "      <td>0.437143</td>\n",
       "    </tr>\n",
       "    <tr>\n",
       "      <td>Cluster 5</td>\n",
       "      <td>24.693837</td>\n",
       "      <td>-11.412301</td>\n",
       "      <td>84.909549</td>\n",
       "      <td>2831.654418</td>\n",
       "      <td>0.217194</td>\n",
       "      <td>1.066953</td>\n",
       "      <td>93.162025</td>\n",
       "      <td>25.766967</td>\n",
       "      <td>0.388060</td>\n",
       "    </tr>\n",
       "    <tr>\n",
       "      <td>Cluster 6</td>\n",
       "      <td>-33.266120</td>\n",
       "      <td>-13.543881</td>\n",
       "      <td>83.419521</td>\n",
       "      <td>3491.617541</td>\n",
       "      <td>0.183564</td>\n",
       "      <td>1.282825</td>\n",
       "      <td>82.486111</td>\n",
       "      <td>22.032285</td>\n",
       "      <td>0.214575</td>\n",
       "    </tr>\n",
       "    <tr>\n",
       "      <td>Cluster 7</td>\n",
       "      <td>32.263809</td>\n",
       "      <td>-15.494832</td>\n",
       "      <td>81.452510</td>\n",
       "      <td>3412.600506</td>\n",
       "      <td>0.185439</td>\n",
       "      <td>1.830480</td>\n",
       "      <td>83.691173</td>\n",
       "      <td>21.770235</td>\n",
       "      <td>0.143617</td>\n",
       "    </tr>\n",
       "    <tr>\n",
       "      <td>Cluster 8</td>\n",
       "      <td>NaN</td>\n",
       "      <td>NaN</td>\n",
       "      <td>NaN</td>\n",
       "      <td>NaN</td>\n",
       "      <td>NaN</td>\n",
       "      <td>NaN</td>\n",
       "      <td>NaN</td>\n",
       "      <td>NaN</td>\n",
       "      <td>NaN</td>\n",
       "    </tr>\n",
       "    <tr>\n",
       "      <td>Cluster 9</td>\n",
       "      <td>NaN</td>\n",
       "      <td>NaN</td>\n",
       "      <td>NaN</td>\n",
       "      <td>NaN</td>\n",
       "      <td>NaN</td>\n",
       "      <td>NaN</td>\n",
       "      <td>NaN</td>\n",
       "      <td>NaN</td>\n",
       "      <td>NaN</td>\n",
       "    </tr>\n",
       "    <tr>\n",
       "      <td>Cluster 10</td>\n",
       "      <td>NaN</td>\n",
       "      <td>NaN</td>\n",
       "      <td>NaN</td>\n",
       "      <td>NaN</td>\n",
       "      <td>NaN</td>\n",
       "      <td>NaN</td>\n",
       "      <td>NaN</td>\n",
       "      <td>NaN</td>\n",
       "      <td>NaN</td>\n",
       "    </tr>\n",
       "  </tbody>\n",
       "</table>\n",
       "</div>"
      ],
      "text/plain": [
       "              Bearing  Launch Angle  Exit Speed  Hit Spin Rate  Hang Time  \\\n",
       "Cluster 1  -14.451363    -10.898609   87.811537    1992.543715   0.224883   \n",
       "Cluster 2    0.032898    -10.290921   89.023104    1417.437847   0.224397   \n",
       "Cluster 3   15.213641     -9.687384   88.089871    2271.459386   0.243511   \n",
       "Cluster 4  -24.012744    -11.225484   85.509444    2651.392075   0.214259   \n",
       "Cluster 5   24.693837    -11.412301   84.909549    2831.654418   0.217194   \n",
       "Cluster 6  -33.266120    -13.543881   83.419521    3491.617541   0.183564   \n",
       "Cluster 7   32.263809    -15.494832   81.452510    3412.600506   0.185439   \n",
       "Cluster 8         NaN           NaN         NaN            NaN        NaN   \n",
       "Cluster 9         NaN           NaN         NaN            NaN        NaN   \n",
       "Cluster 10        NaN           NaN         NaN            NaN        NaN   \n",
       "\n",
       "            Position at 110Y  Position at 110X  Last Tracked Distance  \\\n",
       "Cluster 1           1.790329        103.745201              27.473359   \n",
       "Cluster 2           1.821177        108.887258              27.186623   \n",
       "Cluster 3           1.575137        102.576139              29.572581   \n",
       "Cluster 4           0.777103         95.014123              25.978235   \n",
       "Cluster 5           1.066953         93.162025              25.766967   \n",
       "Cluster 6           1.282825         82.486111              22.032285   \n",
       "Cluster 7           1.830480         83.691173              21.770235   \n",
       "Cluster 8                NaN               NaN                    NaN   \n",
       "Cluster 9                NaN               NaN                    NaN   \n",
       "Cluster 10               NaN               NaN                    NaN   \n",
       "\n",
       "            Play Result  \n",
       "Cluster 1      0.214623  \n",
       "Cluster 2      0.369710  \n",
       "Cluster 3      0.205797  \n",
       "Cluster 4      0.437143  \n",
       "Cluster 5      0.388060  \n",
       "Cluster 6      0.214575  \n",
       "Cluster 7      0.143617  \n",
       "Cluster 8           NaN  \n",
       "Cluster 9           NaN  \n",
       "Cluster 10          NaN  "
      ]
     },
     "execution_count": 80,
     "metadata": {},
     "output_type": "execute_result"
    }
   ],
   "source": [
    "df"
   ]
  },
  {
   "cell_type": "code",
   "execution_count": 81,
   "metadata": {},
   "outputs": [],
   "source": [
    "df.to_csv('Cluster_Means_Bearing.csv')"
   ]
  },
  {
   "cell_type": "code",
   "execution_count": null,
   "metadata": {},
   "outputs": [],
   "source": []
  }
 ],
 "metadata": {
  "kernelspec": {
   "display_name": "Python 3",
   "language": "python",
   "name": "python3"
  },
  "language_info": {
   "codemirror_mode": {
    "name": "ipython",
    "version": 3
   },
   "file_extension": ".py",
   "mimetype": "text/x-python",
   "name": "python",
   "nbconvert_exporter": "python",
   "pygments_lexer": "ipython3",
   "version": "3.7.4"
  }
 },
 "nbformat": 4,
 "nbformat_minor": 2
}
