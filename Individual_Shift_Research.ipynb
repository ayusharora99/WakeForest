{
 "cells": [
  {
   "cell_type": "code",
   "execution_count": 2,
   "metadata": {},
   "outputs": [],
   "source": [
    "import pandas as pd"
   ]
  },
  {
   "cell_type": "code",
   "execution_count": 3,
   "metadata": {},
   "outputs": [],
   "source": [
    "expected = pd.read_csv('Batters_Profile_Logistic_Regression.csv')\n",
    "profile = pd.read_csv('Batters_BIP+Hit.csv')"
   ]
  },
  {
   "cell_type": "code",
   "execution_count": 4,
   "metadata": {},
   "outputs": [],
   "source": [
    "i = 8888760\n",
    "batter_expected = expected[expected.Batter_ID == i]"
   ]
  },
  {
   "cell_type": "code",
   "execution_count": 5,
   "metadata": {},
   "outputs": [],
   "source": [
    "batter_profile = profile[profile.Batter_ID == i]"
   ]
  },
  {
   "cell_type": "code",
   "execution_count": 6,
   "metadata": {},
   "outputs": [
    {
     "data": {
      "text/html": [
       "<div>\n",
       "<style scoped>\n",
       "    .dataframe tbody tr th:only-of-type {\n",
       "        vertical-align: middle;\n",
       "    }\n",
       "\n",
       "    .dataframe tbody tr th {\n",
       "        vertical-align: top;\n",
       "    }\n",
       "\n",
       "    .dataframe thead th {\n",
       "        text-align: right;\n",
       "    }\n",
       "</style>\n",
       "<table border=\"1\" class=\"dataframe\">\n",
       "  <thead>\n",
       "    <tr style=\"text-align: right;\">\n",
       "      <th></th>\n",
       "      <th>Unnamed: 0</th>\n",
       "      <th>Batter_ID</th>\n",
       "      <th>Up_The_Middle_BIP</th>\n",
       "      <th>Up_The_Middle_Hit</th>\n",
       "      <th>Up_The_Middle_BIP+Hit</th>\n",
       "      <th>SS_BIP</th>\n",
       "      <th>SS_Hit</th>\n",
       "      <th>SS_BIP+Hit</th>\n",
       "      <th>3_4_Hole_BIP</th>\n",
       "      <th>3_4_Hole_Hit</th>\n",
       "      <th>...</th>\n",
       "      <th>1B_BIP+Hit</th>\n",
       "      <th>5_6_Hole_BIP</th>\n",
       "      <th>5_6_Hole_Hit</th>\n",
       "      <th>5_6_Hole_BIP+Hit</th>\n",
       "      <th>2B_BIP</th>\n",
       "      <th>2B_Hit</th>\n",
       "      <th>2B_BIP+Hit</th>\n",
       "      <th>3B_BIP</th>\n",
       "      <th>3B_Hit</th>\n",
       "      <th>3B_BIP+Hit</th>\n",
       "    </tr>\n",
       "  </thead>\n",
       "  <tbody>\n",
       "    <tr>\n",
       "      <td>156</td>\n",
       "      <td>156</td>\n",
       "      <td>8888760</td>\n",
       "      <td>53</td>\n",
       "      <td>22</td>\n",
       "      <td>17.322835</td>\n",
       "      <td>20</td>\n",
       "      <td>3</td>\n",
       "      <td>2.362205</td>\n",
       "      <td>5</td>\n",
       "      <td>3</td>\n",
       "      <td>...</td>\n",
       "      <td>2.362205</td>\n",
       "      <td>13</td>\n",
       "      <td>6</td>\n",
       "      <td>4.724409</td>\n",
       "      <td>19</td>\n",
       "      <td>8</td>\n",
       "      <td>6.299213</td>\n",
       "      <td>9</td>\n",
       "      <td>4</td>\n",
       "      <td>3.149606</td>\n",
       "    </tr>\n",
       "  </tbody>\n",
       "</table>\n",
       "<p>1 rows × 23 columns</p>\n",
       "</div>"
      ],
      "text/plain": [
       "     Unnamed: 0  Batter_ID  Up_The_Middle_BIP  Up_The_Middle_Hit  \\\n",
       "156         156    8888760                 53                 22   \n",
       "\n",
       "     Up_The_Middle_BIP+Hit  SS_BIP  SS_Hit  SS_BIP+Hit  3_4_Hole_BIP  \\\n",
       "156              17.322835      20       3    2.362205             5   \n",
       "\n",
       "     3_4_Hole_Hit  ...  1B_BIP+Hit  5_6_Hole_BIP  5_6_Hole_Hit  \\\n",
       "156             3  ...    2.362205            13             6   \n",
       "\n",
       "     5_6_Hole_BIP+Hit  2B_BIP  2B_Hit  2B_BIP+Hit  3B_BIP  3B_Hit  3B_BIP+Hit  \n",
       "156          4.724409      19       8    6.299213       9       4    3.149606  \n",
       "\n",
       "[1 rows x 23 columns]"
      ]
     },
     "execution_count": 6,
     "metadata": {},
     "output_type": "execute_result"
    }
   ],
   "source": [
    "batter_profile"
   ]
  },
  {
   "cell_type": "code",
   "execution_count": 7,
   "metadata": {},
   "outputs": [],
   "source": [
    "batter_profile.to_csv('specific_batter.csv')"
   ]
  },
  {
   "cell_type": "code",
   "execution_count": 9,
   "metadata": {},
   "outputs": [],
   "source": [
    "expected_profile = expected[expected.Batter_ID == i]"
   ]
  },
  {
   "cell_type": "code",
   "execution_count": 10,
   "metadata": {},
   "outputs": [],
   "source": [
    "expected_profile.to_csv('expected_specific_batter.csv')"
   ]
  },
  {
   "cell_type": "code",
   "execution_count": 23,
   "metadata": {},
   "outputs": [
    {
     "data": {
      "text/html": [
       "<div>\n",
       "<style scoped>\n",
       "    .dataframe tbody tr th:only-of-type {\n",
       "        vertical-align: middle;\n",
       "    }\n",
       "\n",
       "    .dataframe tbody tr th {\n",
       "        vertical-align: top;\n",
       "    }\n",
       "\n",
       "    .dataframe thead th {\n",
       "        text-align: right;\n",
       "    }\n",
       "</style>\n",
       "<table border=\"1\" class=\"dataframe\">\n",
       "  <thead>\n",
       "    <tr style=\"text-align: right;\">\n",
       "      <th></th>\n",
       "      <th>Up_The_Middle_BIP+Hit</th>\n",
       "      <th>SS_BIP+Hit</th>\n",
       "      <th>3_4_Hole_BIP+Hit</th>\n",
       "      <th>1B_BIP+Hit</th>\n",
       "      <th>5_6_Hole_BIP+Hit</th>\n",
       "      <th>2B_BIP+Hit</th>\n",
       "      <th>3B_BIP+Hit</th>\n",
       "    </tr>\n",
       "  </thead>\n",
       "  <tbody>\n",
       "    <tr>\n",
       "      <td>156</td>\n",
       "      <td>17.322835</td>\n",
       "      <td>2.362205</td>\n",
       "      <td>2.362205</td>\n",
       "      <td>2.362205</td>\n",
       "      <td>4.724409</td>\n",
       "      <td>6.299213</td>\n",
       "      <td>3.149606</td>\n",
       "    </tr>\n",
       "  </tbody>\n",
       "</table>\n",
       "</div>"
      ],
      "text/plain": [
       "     Up_The_Middle_BIP+Hit  SS_BIP+Hit  3_4_Hole_BIP+Hit  1B_BIP+Hit  \\\n",
       "156              17.322835    2.362205          2.362205    2.362205   \n",
       "\n",
       "     5_6_Hole_BIP+Hit  2B_BIP+Hit  3B_BIP+Hit  \n",
       "156          4.724409    6.299213    3.149606  "
      ]
     },
     "execution_count": 23,
     "metadata": {},
     "output_type": "execute_result"
    }
   ],
   "source": [
    "batter_profile[['Up_The_Middle_BIP+Hit',\n",
    "               'SS_BIP+Hit',\n",
    "               '3_4_Hole_BIP+Hit',\n",
    "               '1B_BIP+Hit',\n",
    "               '5_6_Hole_BIP+Hit',\n",
    "               '2B_BIP+Hit',\n",
    "               '3B_BIP+Hit']]"
   ]
  },
  {
   "cell_type": "code",
   "execution_count": null,
   "metadata": {},
   "outputs": [],
   "source": []
  }
 ],
 "metadata": {
  "kernelspec": {
   "display_name": "Python 3",
   "language": "python",
   "name": "python3"
  },
  "language_info": {
   "codemirror_mode": {
    "name": "ipython",
    "version": 3
   },
   "file_extension": ".py",
   "mimetype": "text/x-python",
   "name": "python",
   "nbconvert_exporter": "python",
   "pygments_lexer": "ipython3",
   "version": "3.7.4"
  }
 },
 "nbformat": 4,
 "nbformat_minor": 2
}
