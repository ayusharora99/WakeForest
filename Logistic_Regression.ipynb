{
 "cells": [
  {
   "cell_type": "code",
   "execution_count": 1,
   "metadata": {},
   "outputs": [],
   "source": [
    "import pandas as pd\n",
    "import numpy as np\n",
    "from sklearn import preprocessing\n",
    "import matplotlib.pyplot as plt\n",
    "from sklearn.linear_model import LogisticRegression\n",
    "from sklearn.model_selection import train_test_split\n",
    "import seaborn as sns\n",
    "import statsmodels.api as sm\n",
    "from sklearn import metrics\n",
    "#from imblearn.over_sampling import SMOTE "
   ]
  },
  {
   "cell_type": "code",
   "execution_count": 2,
   "metadata": {},
   "outputs": [],
   "source": [
    "fielder_SS = pd.read_csv('cluster_0.csv')\n",
    "fielder_SS_lr = fielder_SS[['Angle',\n",
    "                              'Direction',\n",
    "                              'HangTime',\n",
    "                              'LastTrackedDistance',\n",
    "                              'ExitSpeed',\n",
    "                              '3B',\n",
    "                              '5_6_Hole',\n",
    "                              'SS',\n",
    "                              'Up_the_Middle',\n",
    "                              '2B',\n",
    "                              '3_4_Hole',\n",
    "                              '1B',\n",
    "                              'PlayResult']]\n",
    "\n",
    "hole_middle = pd.read_csv('cluster_1.csv')\n",
    "hole_middle_lr = hole_middle[['Angle',\n",
    "                              'Direction',\n",
    "                              'HangTime',\n",
    "                              'LastTrackedDistance',\n",
    "                              'ExitSpeed',\n",
    "                              '3B',\n",
    "                              '5_6_Hole',\n",
    "                              'SS',\n",
    "                              'Up_the_Middle',\n",
    "                              '2B',\n",
    "                              '3_4_Hole',\n",
    "                              '1B',\n",
    "                              'PlayResult']]\n",
    "\n",
    "fielder_2B = pd.read_csv('cluster_2.csv')\n",
    "fielder_2B_lr = fielder_2B[['Angle',\n",
    "                              'Direction',\n",
    "                              'HangTime',\n",
    "                              'LastTrackedDistance',\n",
    "                              'ExitSpeed',\n",
    "                              '3B',\n",
    "                              '5_6_Hole',\n",
    "                              'SS',\n",
    "                              'Up_the_Middle',\n",
    "                              '2B',\n",
    "                              '3_4_Hole',\n",
    "                              '1B',\n",
    "                              'PlayResult']]\n",
    "\n",
    "hole_5_6 = pd.read_csv('cluster_3.csv')\n",
    "hole_5_6_lr = hole_5_6[['Angle',\n",
    "                              'Direction',\n",
    "                              'HangTime',\n",
    "                              'LastTrackedDistance',\n",
    "                              'ExitSpeed',\n",
    "                              '3B',\n",
    "                              '5_6_Hole',\n",
    "                              'SS',\n",
    "                              'Up_the_Middle',\n",
    "                              '2B',\n",
    "                              '3_4_Hole',\n",
    "                              '1B',\n",
    "                              'PlayResult']]\n",
    "\n",
    "hole_3_4 = pd.read_csv('cluster_4.csv')\n",
    "hole_3_4_lr = hole_3_4[['Angle',\n",
    "                              'Direction',\n",
    "                              'HangTime',\n",
    "                              'LastTrackedDistance',\n",
    "                              'ExitSpeed',\n",
    "                              '3B',\n",
    "                              '5_6_Hole',\n",
    "                              'SS',\n",
    "                              'Up_the_Middle',\n",
    "                              '2B',\n",
    "                              '3_4_Hole',\n",
    "                              '1B',\n",
    "                              'PlayResult']]\n",
    "\n",
    "fielder_3B = pd.read_csv('cluster_5.csv')\n",
    "fielder_3B_lr = fielder_3B[['Angle',\n",
    "                              'Direction',\n",
    "                              'HangTime',\n",
    "                              'LastTrackedDistance',\n",
    "                              'ExitSpeed',\n",
    "                              '3B',\n",
    "                              '5_6_Hole',\n",
    "                              'SS',\n",
    "                              'Up_the_Middle',\n",
    "                              '2B',\n",
    "                              '3_4_Hole',\n",
    "                              '1B',\n",
    "                              'PlayResult']]\n",
    "\n",
    "fielder_1B = pd.read_csv('cluster_6.csv')\n",
    "fielder_1B_lr = fielder_1B[['Angle',\n",
    "                              'Direction',\n",
    "                              'HangTime',\n",
    "                              'LastTrackedDistance',\n",
    "                              'ExitSpeed',\n",
    "                              '3B',\n",
    "                              '5_6_Hole',\n",
    "                              'SS',\n",
    "                              'Up_the_Middle',\n",
    "                              '2B',\n",
    "                              '3_4_Hole',\n",
    "                              '1B',\n",
    "                              'PlayResult']]"
   ]
  },
  {
   "cell_type": "code",
   "execution_count": 3,
   "metadata": {},
   "outputs": [],
   "source": [
    "# USE SMOTE to balance?"
   ]
  },
  {
   "cell_type": "code",
   "execution_count": 4,
   "metadata": {},
   "outputs": [],
   "source": [
    "logreg = LogisticRegression()"
   ]
  },
  {
   "cell_type": "code",
   "execution_count": 5,
   "metadata": {},
   "outputs": [
    {
     "name": "stdout",
     "output_type": "stream",
     "text": [
      "204\n"
     ]
    },
    {
     "name": "stderr",
     "output_type": "stream",
     "text": [
      "/Users/ayusharora/opt/anaconda3/lib/python3.7/site-packages/sklearn/linear_model/logistic.py:432: FutureWarning: Default solver will be changed to 'lbfgs' in 0.22. Specify a solver to silence this warning.\n",
      "  FutureWarning)\n",
      "/Users/ayusharora/opt/anaconda3/lib/python3.7/site-packages/ipykernel_launcher.py:5: SettingWithCopyWarning: \n",
      "A value is trying to be set on a copy of a slice from a DataFrame.\n",
      "Try using .loc[row_indexer,col_indexer] = value instead\n",
      "\n",
      "See the caveats in the documentation: http://pandas.pydata.org/pandas-docs/stable/user_guide/indexing.html#returning-a-view-versus-a-copy\n",
      "  \"\"\"\n"
     ]
    }
   ],
   "source": [
    "X_middle = hole_middle_lr.iloc[:,0:12]\n",
    "y_middle = hole_middle_lr.iloc[:,-1]\n",
    "lr_middle = logreg.fit(X_middle,y_middle)\n",
    "y_pred = lr_middle.predict(X_middle)\n",
    "hole_middle_lr['hit_prob'] = y_pred\n",
    "#logreg.score(X_middle, y_middle)\n",
    "print(sum(hole_middle_lr['hit_prob']))"
   ]
  },
  {
   "cell_type": "code",
   "execution_count": 6,
   "metadata": {},
   "outputs": [
    {
     "name": "stdout",
     "output_type": "stream",
     "text": [
      "30\n"
     ]
    },
    {
     "name": "stderr",
     "output_type": "stream",
     "text": [
      "/Users/ayusharora/opt/anaconda3/lib/python3.7/site-packages/sklearn/linear_model/logistic.py:432: FutureWarning: Default solver will be changed to 'lbfgs' in 0.22. Specify a solver to silence this warning.\n",
      "  FutureWarning)\n",
      "/Users/ayusharora/opt/anaconda3/lib/python3.7/site-packages/ipykernel_launcher.py:5: SettingWithCopyWarning: \n",
      "A value is trying to be set on a copy of a slice from a DataFrame.\n",
      "Try using .loc[row_indexer,col_indexer] = value instead\n",
      "\n",
      "See the caveats in the documentation: http://pandas.pydata.org/pandas-docs/stable/user_guide/indexing.html#returning-a-view-versus-a-copy\n",
      "  \"\"\"\n"
     ]
    }
   ],
   "source": [
    "X_SS = fielder_SS_lr.iloc[:,0:12]\n",
    "y_SS = fielder_SS_lr.iloc[:,-1]\n",
    "lr_SS = logreg.fit(X_SS,y_SS)\n",
    "y_pred = lr_SS.predict(X_SS)\n",
    "fielder_SS_lr['hit_prob'] = y_pred\n",
    "#logreg.score(X_SS, y_SS)\n",
    "print(sum(fielder_SS_lr['hit_prob']))"
   ]
  },
  {
   "cell_type": "code",
   "execution_count": 7,
   "metadata": {},
   "outputs": [
    {
     "name": "stdout",
     "output_type": "stream",
     "text": [
      "100\n"
     ]
    },
    {
     "name": "stderr",
     "output_type": "stream",
     "text": [
      "/Users/ayusharora/opt/anaconda3/lib/python3.7/site-packages/sklearn/linear_model/logistic.py:432: FutureWarning: Default solver will be changed to 'lbfgs' in 0.22. Specify a solver to silence this warning.\n",
      "  FutureWarning)\n",
      "/Users/ayusharora/opt/anaconda3/lib/python3.7/site-packages/ipykernel_launcher.py:5: SettingWithCopyWarning: \n",
      "A value is trying to be set on a copy of a slice from a DataFrame.\n",
      "Try using .loc[row_indexer,col_indexer] = value instead\n",
      "\n",
      "See the caveats in the documentation: http://pandas.pydata.org/pandas-docs/stable/user_guide/indexing.html#returning-a-view-versus-a-copy\n",
      "  \"\"\"\n"
     ]
    }
   ],
   "source": [
    "X_3_4 = hole_3_4_lr.iloc[:,0:12]\n",
    "y_3_4 = hole_3_4_lr.iloc[:,-1]\n",
    "lr_3_4 = logreg.fit(X_3_4,y_3_4)\n",
    "y_pred = lr_3_4.predict(X_3_4)\n",
    "hole_3_4_lr['hit_prob'] = y_pred\n",
    "logreg.score(X_3_4, y_3_4)\n",
    "print(sum(hole_3_4_lr['hit_prob']))"
   ]
  },
  {
   "cell_type": "code",
   "execution_count": 8,
   "metadata": {},
   "outputs": [
    {
     "name": "stdout",
     "output_type": "stream",
     "text": [
      "3\n"
     ]
    },
    {
     "name": "stderr",
     "output_type": "stream",
     "text": [
      "/Users/ayusharora/opt/anaconda3/lib/python3.7/site-packages/sklearn/linear_model/logistic.py:432: FutureWarning: Default solver will be changed to 'lbfgs' in 0.22. Specify a solver to silence this warning.\n",
      "  FutureWarning)\n",
      "/Users/ayusharora/opt/anaconda3/lib/python3.7/site-packages/ipykernel_launcher.py:5: SettingWithCopyWarning: \n",
      "A value is trying to be set on a copy of a slice from a DataFrame.\n",
      "Try using .loc[row_indexer,col_indexer] = value instead\n",
      "\n",
      "See the caveats in the documentation: http://pandas.pydata.org/pandas-docs/stable/user_guide/indexing.html#returning-a-view-versus-a-copy\n",
      "  \"\"\"\n"
     ]
    }
   ],
   "source": [
    "X_1B = fielder_1B_lr.iloc[:,0:12]\n",
    "y_1B = fielder_1B_lr.iloc[:,-1]\n",
    "lr_1B = logreg.fit(X_1B,y_1B)\n",
    "y_pred = lr_1B.predict(X_1B)\n",
    "fielder_1B_lr['hit_prob'] = y_pred\n",
    "logreg.score(X_1B, y_1B)\n",
    "print(sum(fielder_1B_lr['hit_prob']))"
   ]
  },
  {
   "cell_type": "code",
   "execution_count": 9,
   "metadata": {},
   "outputs": [
    {
     "name": "stdout",
     "output_type": "stream",
     "text": [
      "144\n"
     ]
    },
    {
     "name": "stderr",
     "output_type": "stream",
     "text": [
      "/Users/ayusharora/opt/anaconda3/lib/python3.7/site-packages/sklearn/linear_model/logistic.py:432: FutureWarning: Default solver will be changed to 'lbfgs' in 0.22. Specify a solver to silence this warning.\n",
      "  FutureWarning)\n",
      "/Users/ayusharora/opt/anaconda3/lib/python3.7/site-packages/ipykernel_launcher.py:5: SettingWithCopyWarning: \n",
      "A value is trying to be set on a copy of a slice from a DataFrame.\n",
      "Try using .loc[row_indexer,col_indexer] = value instead\n",
      "\n",
      "See the caveats in the documentation: http://pandas.pydata.org/pandas-docs/stable/user_guide/indexing.html#returning-a-view-versus-a-copy\n",
      "  \"\"\"\n"
     ]
    }
   ],
   "source": [
    "X_5_6 = hole_5_6_lr.iloc[:,0:12]\n",
    "y_5_6 = hole_5_6_lr.iloc[:,-1]\n",
    "lr_5_6 = logreg.fit(X_5_6,y_5_6)\n",
    "y_pred = lr_5_6.predict(X_5_6)\n",
    "hole_5_6_lr['hit_prob'] = y_pred\n",
    "logreg.score(X_5_6, y_5_6)\n",
    "print(sum(hole_5_6_lr['hit_prob']))"
   ]
  },
  {
   "cell_type": "code",
   "execution_count": 10,
   "metadata": {},
   "outputs": [
    {
     "name": "stdout",
     "output_type": "stream",
     "text": [
      "39\n"
     ]
    },
    {
     "name": "stderr",
     "output_type": "stream",
     "text": [
      "/Users/ayusharora/opt/anaconda3/lib/python3.7/site-packages/sklearn/linear_model/logistic.py:432: FutureWarning: Default solver will be changed to 'lbfgs' in 0.22. Specify a solver to silence this warning.\n",
      "  FutureWarning)\n",
      "/Users/ayusharora/opt/anaconda3/lib/python3.7/site-packages/ipykernel_launcher.py:5: SettingWithCopyWarning: \n",
      "A value is trying to be set on a copy of a slice from a DataFrame.\n",
      "Try using .loc[row_indexer,col_indexer] = value instead\n",
      "\n",
      "See the caveats in the documentation: http://pandas.pydata.org/pandas-docs/stable/user_guide/indexing.html#returning-a-view-versus-a-copy\n",
      "  \"\"\"\n"
     ]
    }
   ],
   "source": [
    "X_2B = fielder_2B_lr.iloc[:,0:12]\n",
    "y_2B = fielder_2B_lr.iloc[:,-1]\n",
    "lr_2B = logreg.fit(X_2B,y_2B)\n",
    "y_pred = lr_2B.predict(X_2B)\n",
    "fielder_2B_lr['hit_prob'] = y_pred\n",
    "logreg.score(X_2B, y_2B)\n",
    "print(sum(fielder_2B_lr['hit_prob']))"
   ]
  },
  {
   "cell_type": "code",
   "execution_count": 11,
   "metadata": {},
   "outputs": [
    {
     "name": "stdout",
     "output_type": "stream",
     "text": [
      "15\n"
     ]
    },
    {
     "name": "stderr",
     "output_type": "stream",
     "text": [
      "/Users/ayusharora/opt/anaconda3/lib/python3.7/site-packages/sklearn/linear_model/logistic.py:432: FutureWarning: Default solver will be changed to 'lbfgs' in 0.22. Specify a solver to silence this warning.\n",
      "  FutureWarning)\n",
      "/Users/ayusharora/opt/anaconda3/lib/python3.7/site-packages/ipykernel_launcher.py:5: SettingWithCopyWarning: \n",
      "A value is trying to be set on a copy of a slice from a DataFrame.\n",
      "Try using .loc[row_indexer,col_indexer] = value instead\n",
      "\n",
      "See the caveats in the documentation: http://pandas.pydata.org/pandas-docs/stable/user_guide/indexing.html#returning-a-view-versus-a-copy\n",
      "  \"\"\"\n"
     ]
    }
   ],
   "source": [
    "X_3B = fielder_3B_lr.iloc[:,0:12]\n",
    "y_3B = fielder_3B_lr.iloc[:,-1]\n",
    "lr_3B = logreg.fit(X_3B,y_3B)\n",
    "y_pred = lr_3B.predict(X_3B)\n",
    "fielder_3B_lr['hit_prob'] = y_pred\n",
    "logreg.score(X_3B, y_3B)\n",
    "print(sum(fielder_3B_lr['hit_prob']))"
   ]
  },
  {
   "cell_type": "code",
   "execution_count": 12,
   "metadata": {},
   "outputs": [
    {
     "name": "stdout",
     "output_type": "stream",
     "text": [
      "<class 'pandas.core.frame.DataFrame'>\n",
      "RangeIndex: 188 entries, 0 to 187\n",
      "Data columns (total 12 columns):\n",
      "Angle                  188 non-null float64\n",
      "Direction              188 non-null float64\n",
      "HangTime               188 non-null float64\n",
      "LastTrackedDistance    188 non-null float64\n",
      "ExitSpeed              188 non-null float64\n",
      "3B                     188 non-null float64\n",
      "5_6_Hole               188 non-null float64\n",
      "SS                     188 non-null float64\n",
      "Up_the_Middle          188 non-null float64\n",
      "2B                     188 non-null float64\n",
      "3_4_Hole               188 non-null float64\n",
      "1B                     188 non-null float64\n",
      "dtypes: float64(12)\n",
      "memory usage: 17.8 KB\n"
     ]
    }
   ],
   "source": [
    "X_1B.info()"
   ]
  },
  {
   "cell_type": "code",
   "execution_count": 13,
   "metadata": {},
   "outputs": [
    {
     "name": "stderr",
     "output_type": "stream",
     "text": [
      "/Users/ayusharora/opt/anaconda3/lib/python3.7/site-packages/ipykernel_launcher.py:4: SettingWithCopyWarning: \n",
      "A value is trying to be set on a copy of a slice from a DataFrame.\n",
      "Try using .loc[row_indexer,col_indexer] = value instead\n",
      "\n",
      "See the caveats in the documentation: http://pandas.pydata.org/pandas-docs/stable/user_guide/indexing.html#returning-a-view-versus-a-copy\n",
      "  after removing the cwd from sys.path.\n",
      "/Users/ayusharora/opt/anaconda3/lib/python3.7/site-packages/ipykernel_launcher.py:8: SettingWithCopyWarning: \n",
      "A value is trying to be set on a copy of a slice from a DataFrame.\n",
      "Try using .loc[row_indexer,col_indexer] = value instead\n",
      "\n",
      "See the caveats in the documentation: http://pandas.pydata.org/pandas-docs/stable/user_guide/indexing.html#returning-a-view-versus-a-copy\n",
      "  \n",
      "/Users/ayusharora/opt/anaconda3/lib/python3.7/site-packages/ipykernel_launcher.py:13: SettingWithCopyWarning: \n",
      "A value is trying to be set on a copy of a slice from a DataFrame.\n",
      "Try using .loc[row_indexer,col_indexer] = value instead\n",
      "\n",
      "See the caveats in the documentation: http://pandas.pydata.org/pandas-docs/stable/user_guide/indexing.html#returning-a-view-versus-a-copy\n",
      "  del sys.path[0]\n",
      "/Users/ayusharora/opt/anaconda3/lib/python3.7/site-packages/ipykernel_launcher.py:18: SettingWithCopyWarning: \n",
      "A value is trying to be set on a copy of a slice from a DataFrame.\n",
      "Try using .loc[row_indexer,col_indexer] = value instead\n",
      "\n",
      "See the caveats in the documentation: http://pandas.pydata.org/pandas-docs/stable/user_guide/indexing.html#returning-a-view-versus-a-copy\n",
      "/Users/ayusharora/opt/anaconda3/lib/python3.7/site-packages/ipykernel_launcher.py:23: SettingWithCopyWarning: \n",
      "A value is trying to be set on a copy of a slice from a DataFrame.\n",
      "Try using .loc[row_indexer,col_indexer] = value instead\n",
      "\n",
      "See the caveats in the documentation: http://pandas.pydata.org/pandas-docs/stable/user_guide/indexing.html#returning-a-view-versus-a-copy\n",
      "/Users/ayusharora/opt/anaconda3/lib/python3.7/site-packages/ipykernel_launcher.py:28: SettingWithCopyWarning: \n",
      "A value is trying to be set on a copy of a slice from a DataFrame.\n",
      "Try using .loc[row_indexer,col_indexer] = value instead\n",
      "\n",
      "See the caveats in the documentation: http://pandas.pydata.org/pandas-docs/stable/user_guide/indexing.html#returning-a-view-versus-a-copy\n",
      "/Users/ayusharora/opt/anaconda3/lib/python3.7/site-packages/ipykernel_launcher.py:33: SettingWithCopyWarning: \n",
      "A value is trying to be set on a copy of a slice from a DataFrame.\n",
      "Try using .loc[row_indexer,col_indexer] = value instead\n",
      "\n",
      "See the caveats in the documentation: http://pandas.pydata.org/pandas-docs/stable/user_guide/indexing.html#returning-a-view-versus-a-copy\n"
     ]
    }
   ],
   "source": [
    "# SHIFT \n",
    "\n",
    "# 3B on 3B\n",
    "fielder_3B_lr['shifted_hit_prob'] = fielder_3B_lr['hit_prob']\n",
    "\n",
    "# SS model on 5-6 BIP\n",
    "y_shift = lr_SS.predict(X_5_6)\n",
    "hole_5_6_lr['shifted_hit_prob'] = y_shift\n",
    "y_shift = 0\n",
    "\n",
    "# 5-6 on SS BIP\n",
    "y_shift = lr_5_6.predict(X_SS)\n",
    "fielder_SS_lr['shifted_hit_prob'] = y_shift\n",
    "y_shift = 0\n",
    "\n",
    "# 2B on Middle BIP\n",
    "y_shift = lr_2B.predict(X_middle)\n",
    "hole_middle_lr['shifted_hit_prob'] = y_shift\n",
    "y_shift = 0\n",
    "\n",
    "# Middle on 2B BIP\n",
    "y_shift = lr_middle.predict(X_2B)\n",
    "fielder_2B_lr['shifted_hit_prob'] = y_shift\n",
    "y_shift = 0\n",
    "\n",
    "# 1B on 3-4 BIP\n",
    "y_shift = lr_1B.predict(X_3_4)\n",
    "hole_3_4_lr['shifted_hit_prob'] = y_shift\n",
    "y_shift = 0\n",
    "\n",
    "# 3-4 on 1B BIP\n",
    "y_shift = lr_3_4.predict(X_1B)\n",
    "fielder_1B_lr['shifted_hit_prob'] = y_shift\n",
    "y_shift = 0"
   ]
  },
  {
   "cell_type": "code",
   "execution_count": 14,
   "metadata": {},
   "outputs": [
    {
     "name": "stdout",
     "output_type": "stream",
     "text": [
      "0\n"
     ]
    }
   ],
   "source": [
    "print(sum(fielder_2B_lr['shifted_hit_prob']))"
   ]
  },
  {
   "cell_type": "code",
   "execution_count": null,
   "metadata": {},
   "outputs": [],
   "source": [
    "hole_middle = pd.merge(hole_middle, hole_middle_lr, on='Angle')\n",
    "hole_middle.to_csv('middle_logistic_regression.csv')"
   ]
  },
  {
   "cell_type": "code",
   "execution_count": null,
   "metadata": {},
   "outputs": [],
   "source": [
    "fielder_SS = pd.merge(fielder_SS, fielder_SS_lr, on = 'Angle')\n",
    "fielder_SS.to_csv('SS_logistic_regression.csv')"
   ]
  },
  {
   "cell_type": "code",
   "execution_count": null,
   "metadata": {},
   "outputs": [],
   "source": [
    "hole_3_4 = pd.merge(hole_3_4, hole_3_4_lr, on = 'Angle')\n",
    "hole_3_4.to_csv('3_4_logistic_regression.csv')"
   ]
  },
  {
   "cell_type": "code",
   "execution_count": null,
   "metadata": {},
   "outputs": [],
   "source": [
    "fielder_1B = pd.merge(fielder_1B, fielder_1B_lr, on = 'Angle')\n",
    "fielder_1B.to_csv('1B_logistic_regression.csv')"
   ]
  },
  {
   "cell_type": "code",
   "execution_count": null,
   "metadata": {},
   "outputs": [],
   "source": [
    "hole_5_6 = pd.merge(hole_5_6, hole_5_6_lr, on = 'Angle')\n",
    "hole_5_6.to_csv('5_6_logistic_regression.csv')"
   ]
  },
  {
   "cell_type": "code",
   "execution_count": null,
   "metadata": {},
   "outputs": [],
   "source": [
    "fielder_2B = pd.merge(fielder_2B, fielder_2B_lr, on = 'Angle')\n",
    "fielder_2B.to_csv('2B_logistic_regression.csv')"
   ]
  },
  {
   "cell_type": "code",
   "execution_count": null,
   "metadata": {},
   "outputs": [],
   "source": [
    "fielder_3B = pd.merge(fielder_3B, fielder_3B_lr, on = 'Angle')\n",
    "fielder_3B.to_csv('3B_logistic_regression.csv')"
   ]
  },
  {
   "cell_type": "code",
   "execution_count": null,
   "metadata": {},
   "outputs": [],
   "source": [
    "batters = pd.read_csv('Batter_Profiles.csv')"
   ]
  },
  {
   "cell_type": "code",
   "execution_count": null,
   "metadata": {},
   "outputs": [],
   "source": [
    "batter = batters[batters.BatterId == 8888760]"
   ]
  },
  {
   "cell_type": "code",
   "execution_count": null,
   "metadata": {},
   "outputs": [],
   "source": [
    "batter"
   ]
  },
  {
   "cell_type": "code",
   "execution_count": null,
   "metadata": {},
   "outputs": [],
   "source": [
    "batter_middle = batter[batter['cluster #'] == 0]"
   ]
  },
  {
   "cell_type": "code",
   "execution_count": null,
   "metadata": {},
   "outputs": [],
   "source": [
    "batter_SS = batter[batter['cluster #'] == 1]"
   ]
  },
  {
   "cell_type": "code",
   "execution_count": null,
   "metadata": {},
   "outputs": [],
   "source": [
    "batter_3_4 = batter[batter['cluster #'] == 2]"
   ]
  },
  {
   "cell_type": "code",
   "execution_count": null,
   "metadata": {},
   "outputs": [],
   "source": [
    "batter_1B = batter[batter['cluster #'] == 3]"
   ]
  },
  {
   "cell_type": "code",
   "execution_count": null,
   "metadata": {},
   "outputs": [],
   "source": [
    "batter_5_6 = batter[batter['cluster #'] == 4]"
   ]
  },
  {
   "cell_type": "code",
   "execution_count": null,
   "metadata": {},
   "outputs": [],
   "source": [
    "batter_2B = batter[batter['cluster #'] == 5]"
   ]
  },
  {
   "cell_type": "code",
   "execution_count": null,
   "metadata": {},
   "outputs": [],
   "source": [
    "batter_3B = batter[batter['cluster #'] == 6]"
   ]
  },
  {
   "cell_type": "code",
   "execution_count": null,
   "metadata": {},
   "outputs": [],
   "source": [
    "# 3B on 3B\n",
    "batter_3B_lr = batter_3B[['Angle',\n",
    "                              'Direction',\n",
    "                              'HangTime',\n",
    "                              'LastTrackedDistance',\n",
    "                              'ExitSpeed',\n",
    "                              '3B',\n",
    "                              '5_6_Hole',\n",
    "                              'SS',\n",
    "                              'Up_the_Middle',\n",
    "                              '2B',\n",
    "                              '3_4_Hole',\n",
    "                              '1B',\n",
    "                              'PlayResult']]\n",
    "X = batter_3B_lr.iloc[:,0:12]\n",
    "y = batter_3B_lr.iloc[:,-1]\n",
    "\n",
    "y_pred = lr_3B.predict(X)\n",
    "batter_3B_lr['hit_prob'] = y_pred\n",
    "\n",
    "lr_3B_batter = logreg.fit(X,y)\n",
    "y_pred = lr_3B_batter.predict(X)\n",
    "batter_3B_lr['slot_hit_prob'] = y_pred\n",
    "\n",
    "\n",
    "batter_3B_lr"
   ]
  },
  {
   "cell_type": "code",
   "execution_count": null,
   "metadata": {},
   "outputs": [],
   "source": [
    "# SS on SS\n",
    "batter_SS_lr = batter_SS[['Angle',\n",
    "                              'Direction',\n",
    "                              'HangTime',\n",
    "                              'LastTrackedDistance',\n",
    "                              'ExitSpeed',\n",
    "                              '3B',\n",
    "                              '5_6_Hole',\n",
    "                              'SS',\n",
    "                              'Up_the_Middle',\n",
    "                              '2B',\n",
    "                              '3_4_Hole',\n",
    "                              '1B',\n",
    "                              'PlayResult']]\n",
    "X = batter_SS_lr.iloc[:,0:12]\n",
    "y = batter_SS_lr.iloc[:,-1]\n",
    "\n",
    "y_pred = lr_SS.predict(X)\n",
    "batter_SS_lr['hit_prob'] = y_pred\n",
    "\n",
    "lr_SS_batter = logreg.fit(X,y)\n",
    "\n",
    "y_pred = lr_SS_batter.predict(X)\n",
    "batter_SS_lr['slot_hit_prob'] = y_pred\n",
    "\n",
    "y_shift = lr_3B_batter.predict(X)\n",
    "batter_SS_lr['shift_hit_prob'] = y_shift\n",
    "\n",
    "batter_SS_lr"
   ]
  },
  {
   "cell_type": "code",
   "execution_count": null,
   "metadata": {},
   "outputs": [],
   "source": [
    "len(batter_SS_lr['hit_prob'])\n"
   ]
  },
  {
   "cell_type": "code",
   "execution_count": null,
   "metadata": {},
   "outputs": [],
   "source": [
    "len(batter_SS_lr['slot_hit_prob'])\n"
   ]
  },
  {
   "cell_type": "code",
   "execution_count": null,
   "metadata": {},
   "outputs": [],
   "source": [
    "len(batter_SS_lr['shift_hit_prob'])"
   ]
  }
 ],
 "metadata": {
  "kernelspec": {
   "display_name": "Python 3",
   "language": "python",
   "name": "python3"
  },
  "language_info": {
   "codemirror_mode": {
    "name": "ipython",
    "version": 3
   },
   "file_extension": ".py",
   "mimetype": "text/x-python",
   "name": "python",
   "nbconvert_exporter": "python",
   "pygments_lexer": "ipython3",
   "version": "3.7.4"
  }
 },
 "nbformat": 4,
 "nbformat_minor": 2
}
