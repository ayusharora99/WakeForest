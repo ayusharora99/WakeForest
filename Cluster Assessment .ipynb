{
 "cells": [
  {
   "cell_type": "code",
   "execution_count": 2,
   "metadata": {},
   "outputs": [],
   "source": [
    "import pandas as pd\n",
    "import numpy as np\n",
    "from sklearn.preprocessing import MinMaxScaler\n"
   ]
  },
  {
   "cell_type": "code",
   "execution_count": null,
   "metadata": {},
   "outputs": [],
   "source": [
    "righties = pd.read_csv('cluster_righty.csv')\n"
   ]
  },
  {
   "cell_type": "code",
   "execution_count": null,
   "metadata": {},
   "outputs": [],
   "source": [
    "lefties = pd.read_csv('cluster_lefty.csv')"
   ]
  },
  {
   "cell_type": "code",
   "execution_count": null,
   "metadata": {},
   "outputs": [],
   "source": [
    "righty_0 = righties[righties['cluster #'] == 0]\n",
    "righty_1 = righties[righties['cluster #'] == 1]\n",
    "righty_2 = righties[righties['cluster #'] == 2]"
   ]
  },
  {
   "cell_type": "code",
   "execution_count": null,
   "metadata": {},
   "outputs": [],
   "source": [
    "lefty_0 = lefties[lefties['cluster #']==0]\n",
    "lefty_1 = lefties[lefties['cluster #']==1]\n",
    "lefty_2 = lefties[lefties['cluster #']==2]"
   ]
  },
  {
   "cell_type": "code",
   "execution_count": null,
   "metadata": {},
   "outputs": [],
   "source": [
    "righty_0['PlayResult'].value_counts(normalize=True)*100"
   ]
  },
  {
   "cell_type": "code",
   "execution_count": null,
   "metadata": {},
   "outputs": [],
   "source": [
    "righty_1['PlayResult'].value_counts(normalize=True)*100"
   ]
  },
  {
   "cell_type": "code",
   "execution_count": null,
   "metadata": {},
   "outputs": [],
   "source": [
    "righty_2['PlayResult'].value_counts(normalize=True)*100"
   ]
  },
  {
   "cell_type": "code",
   "execution_count": null,
   "metadata": {},
   "outputs": [],
   "source": [
    "lefty_0['PlayResult'].value_counts(normalize=True)*100"
   ]
  },
  {
   "cell_type": "code",
   "execution_count": null,
   "metadata": {},
   "outputs": [],
   "source": [
    "lefty_1['PlayResult'].value_counts(normalize=True)*100"
   ]
  },
  {
   "cell_type": "code",
   "execution_count": null,
   "metadata": {},
   "outputs": [],
   "source": [
    "lefty_2['PlayResult'].va lue_counts(normalize=True)*100"
   ]
  },
  {
   "cell_type": "code",
   "execution_count": 3,
   "metadata": {},
   "outputs": [],
   "source": [
    "overall = pd.read_csv('cluster.csv')"
   ]
  },
  {
   "cell_type": "code",
   "execution_count": 4,
   "metadata": {},
   "outputs": [],
   "source": [
    "overall_0 = overall[overall['cluster #'] == 0]\n",
    "overall_1 = overall[overall['cluster #'] == 1]\n",
    "overall_2 = overall[overall['cluster #'] == 2]\n",
    "overall_3 = overall[overall['cluster #'] == 3]\n",
    "overall_4 = overall[overall['cluster #'] == 4]\n",
    "overall_5 = overall[overall['cluster #'] == 5]\n",
    "overall_6 = overall[overall['cluster #'] == 6]\n",
    "overall_7 = overall[overall['cluster #'] == 7]\n",
    "overall_8 = overall[overall['cluster #'] == 8]\n",
    "overall_9 = overall[overall['cluster #'] == 9]\n",
    "# overall_10 = overall[overall['cluster #'] == 10]\n",
    "# overall_11 = overall[overall['cluster #'] == 11]\n"
   ]
  },
  {
   "cell_type": "code",
   "execution_count": 5,
   "metadata": {},
   "outputs": [
    {
     "data": {
      "text/plain": [
       "0.0    78.787879\n",
       "1.0    21.212121\n",
       "Name: PlayResult, dtype: float64"
      ]
     },
     "execution_count": 5,
     "metadata": {},
     "output_type": "execute_result"
    }
   ],
   "source": [
    "overall_0['PlayResult'].value_counts(normalize=True)*100"
   ]
  },
  {
   "cell_type": "code",
   "execution_count": 6,
   "metadata": {},
   "outputs": [
    {
     "data": {
      "text/plain": [
       "1.0    66.981132\n",
       "0.0    33.018868\n",
       "Name: PlayResult, dtype: float64"
      ]
     },
     "execution_count": 6,
     "metadata": {},
     "output_type": "execute_result"
    }
   ],
   "source": [
    "overall_1['PlayResult'].value_counts(normalize=True)*100"
   ]
  },
  {
   "cell_type": "code",
   "execution_count": 7,
   "metadata": {},
   "outputs": [
    {
     "data": {
      "text/plain": [
       "1.0    84.153005\n",
       "0.0    15.846995\n",
       "Name: PlayResult, dtype: float64"
      ]
     },
     "execution_count": 7,
     "metadata": {},
     "output_type": "execute_result"
    }
   ],
   "source": [
    "overall_2['PlayResult'].value_counts(normalize=True)*100"
   ]
  },
  {
   "cell_type": "code",
   "execution_count": 8,
   "metadata": {},
   "outputs": [
    {
     "data": {
      "text/plain": [
       "0.0    92.655367\n",
       "1.0     7.344633\n",
       "Name: PlayResult, dtype: float64"
      ]
     },
     "execution_count": 8,
     "metadata": {},
     "output_type": "execute_result"
    }
   ],
   "source": [
    "overall_3['PlayResult'].value_counts(normalize=True)*100"
   ]
  },
  {
   "cell_type": "code",
   "execution_count": 9,
   "metadata": {},
   "outputs": [
    {
     "data": {
      "text/plain": [
       "0.0    52.434457\n",
       "1.0    47.565543\n",
       "Name: PlayResult, dtype: float64"
      ]
     },
     "execution_count": 9,
     "metadata": {},
     "output_type": "execute_result"
    }
   ],
   "source": [
    "overall_4['PlayResult'].value_counts(normalize=True)*100"
   ]
  },
  {
   "cell_type": "code",
   "execution_count": 10,
   "metadata": {},
   "outputs": [
    {
     "data": {
      "text/plain": [
       "0.0    79.518072\n",
       "1.0    20.481928\n",
       "Name: PlayResult, dtype: float64"
      ]
     },
     "execution_count": 10,
     "metadata": {},
     "output_type": "execute_result"
    }
   ],
   "source": [
    "overall_5['PlayResult'].value_counts(normalize=True)*100"
   ]
  },
  {
   "cell_type": "code",
   "execution_count": 11,
   "metadata": {},
   "outputs": [
    {
     "data": {
      "text/plain": [
       "0.0    83.636364\n",
       "1.0    16.363636\n",
       "Name: PlayResult, dtype: float64"
      ]
     },
     "execution_count": 11,
     "metadata": {},
     "output_type": "execute_result"
    }
   ],
   "source": [
    "overall_6['PlayResult'].value_counts(normalize=True)*100"
   ]
  },
  {
   "cell_type": "code",
   "execution_count": 12,
   "metadata": {},
   "outputs": [
    {
     "data": {
      "text/plain": [
       "1.0    71.848739\n",
       "0.0    28.151261\n",
       "Name: PlayResult, dtype: float64"
      ]
     },
     "execution_count": 12,
     "metadata": {},
     "output_type": "execute_result"
    }
   ],
   "source": [
    "overall_7['PlayResult'].value_counts(normalize=True)*100"
   ]
  },
  {
   "cell_type": "code",
   "execution_count": 13,
   "metadata": {},
   "outputs": [
    {
     "data": {
      "text/plain": [
       "1.0    66.666667\n",
       "0.0    33.333333\n",
       "Name: PlayResult, dtype: float64"
      ]
     },
     "execution_count": 13,
     "metadata": {},
     "output_type": "execute_result"
    }
   ],
   "source": [
    "overall_8['PlayResult'].value_counts(normalize=True)*100"
   ]
  },
  {
   "cell_type": "code",
   "execution_count": 14,
   "metadata": {},
   "outputs": [
    {
     "data": {
      "text/plain": [
       "1.0    69.605568\n",
       "0.0    30.394432\n",
       "Name: PlayResult, dtype: float64"
      ]
     },
     "execution_count": 14,
     "metadata": {},
     "output_type": "execute_result"
    }
   ],
   "source": [
    "overall_9['PlayResult'].value_counts(normalize=True)*100"
   ]
  },
  {
   "cell_type": "code",
   "execution_count": 138,
   "metadata": {},
   "outputs": [],
   "source": [
    "# overall_10['PlayResult'].value_counts(normalize=True)*100"
   ]
  },
  {
   "cell_type": "code",
   "execution_count": 139,
   "metadata": {},
   "outputs": [],
   "source": [
    "# overall_11['PlayResult'].value_counts(normalize=True)*100"
   ]
  },
  {
   "cell_type": "code",
   "execution_count": 188,
   "metadata": {},
   "outputs": [
    {
     "data": {
      "text/html": [
       "<div>\n",
       "<style scoped>\n",
       "    .dataframe tbody tr th:only-of-type {\n",
       "        vertical-align: middle;\n",
       "    }\n",
       "\n",
       "    .dataframe tbody tr th {\n",
       "        vertical-align: top;\n",
       "    }\n",
       "\n",
       "    .dataframe thead th {\n",
       "        text-align: right;\n",
       "    }\n",
       "</style>\n",
       "<table border=\"1\" class=\"dataframe\">\n",
       "  <thead>\n",
       "    <tr style=\"text-align: right;\">\n",
       "      <th></th>\n",
       "      <th>Unnamed: 0</th>\n",
       "      <th>Angle</th>\n",
       "      <th>PositionAt110Y</th>\n",
       "      <th>HangTime</th>\n",
       "      <th>HitSpinRate</th>\n",
       "      <th>PositionAt110X</th>\n",
       "      <th>LastTrackedDistance</th>\n",
       "      <th>ExitSpeed</th>\n",
       "      <th>PlayResult</th>\n",
       "      <th>cluster #</th>\n",
       "    </tr>\n",
       "  </thead>\n",
       "  <tbody>\n",
       "    <tr>\n",
       "      <td>10</td>\n",
       "      <td>10</td>\n",
       "      <td>0.215568</td>\n",
       "      <td>0.176892</td>\n",
       "      <td>0.394545</td>\n",
       "      <td>0.212765</td>\n",
       "      <td>0.992643</td>\n",
       "      <td>0.720301</td>\n",
       "      <td>0.758886</td>\n",
       "      <td>0.0</td>\n",
       "      <td>4</td>\n",
       "    </tr>\n",
       "    <tr>\n",
       "      <td>11</td>\n",
       "      <td>11</td>\n",
       "      <td>0.251597</td>\n",
       "      <td>0.226492</td>\n",
       "      <td>0.504435</td>\n",
       "      <td>0.394906</td>\n",
       "      <td>0.998264</td>\n",
       "      <td>0.793358</td>\n",
       "      <td>0.772682</td>\n",
       "      <td>0.0</td>\n",
       "      <td>4</td>\n",
       "    </tr>\n",
       "    <tr>\n",
       "      <td>12</td>\n",
       "      <td>12</td>\n",
       "      <td>0.236540</td>\n",
       "      <td>0.212339</td>\n",
       "      <td>0.464700</td>\n",
       "      <td>0.216251</td>\n",
       "      <td>0.974329</td>\n",
       "      <td>0.808758</td>\n",
       "      <td>0.764067</td>\n",
       "      <td>1.0</td>\n",
       "      <td>4</td>\n",
       "    </tr>\n",
       "    <tr>\n",
       "      <td>19</td>\n",
       "      <td>19</td>\n",
       "      <td>0.201814</td>\n",
       "      <td>0.189097</td>\n",
       "      <td>0.440017</td>\n",
       "      <td>0.138223</td>\n",
       "      <td>0.967049</td>\n",
       "      <td>0.862034</td>\n",
       "      <td>0.848609</td>\n",
       "      <td>1.0</td>\n",
       "      <td>4</td>\n",
       "    </tr>\n",
       "    <tr>\n",
       "      <td>22</td>\n",
       "      <td>22</td>\n",
       "      <td>0.244711</td>\n",
       "      <td>0.216991</td>\n",
       "      <td>0.484711</td>\n",
       "      <td>0.227336</td>\n",
       "      <td>0.944432</td>\n",
       "      <td>0.816457</td>\n",
       "      <td>0.784657</td>\n",
       "      <td>0.0</td>\n",
       "      <td>4</td>\n",
       "    </tr>\n",
       "  </tbody>\n",
       "</table>\n",
       "</div>"
      ],
      "text/plain": [
       "    Unnamed: 0     Angle  PositionAt110Y  HangTime  HitSpinRate  \\\n",
       "10          10  0.215568        0.176892  0.394545     0.212765   \n",
       "11          11  0.251597        0.226492  0.504435     0.394906   \n",
       "12          12  0.236540        0.212339  0.464700     0.216251   \n",
       "19          19  0.201814        0.189097  0.440017     0.138223   \n",
       "22          22  0.244711        0.216991  0.484711     0.227336   \n",
       "\n",
       "    PositionAt110X  LastTrackedDistance  ExitSpeed  PlayResult  cluster #  \n",
       "10        0.992643             0.720301   0.758886         0.0          4  \n",
       "11        0.998264             0.793358   0.772682         0.0          4  \n",
       "12        0.974329             0.808758   0.764067         1.0          4  \n",
       "19        0.967049             0.862034   0.848609         1.0          4  \n",
       "22        0.944432             0.816457   0.784657         0.0          4  "
      ]
     },
     "execution_count": 188,
     "metadata": {},
     "output_type": "execute_result"
    }
   ],
   "source": [
    "overall_4.head() # half n half"
   ]
  },
  {
   "cell_type": "code",
   "execution_count": 189,
   "metadata": {},
   "outputs": [
    {
     "data": {
      "text/html": [
       "<div>\n",
       "<style scoped>\n",
       "    .dataframe tbody tr th:only-of-type {\n",
       "        vertical-align: middle;\n",
       "    }\n",
       "\n",
       "    .dataframe tbody tr th {\n",
       "        vertical-align: top;\n",
       "    }\n",
       "\n",
       "    .dataframe thead th {\n",
       "        text-align: right;\n",
       "    }\n",
       "</style>\n",
       "<table border=\"1\" class=\"dataframe\">\n",
       "  <thead>\n",
       "    <tr style=\"text-align: right;\">\n",
       "      <th></th>\n",
       "      <th>Unnamed: 0</th>\n",
       "      <th>Angle</th>\n",
       "      <th>PositionAt110Y</th>\n",
       "      <th>HangTime</th>\n",
       "      <th>HitSpinRate</th>\n",
       "      <th>PositionAt110X</th>\n",
       "      <th>LastTrackedDistance</th>\n",
       "      <th>ExitSpeed</th>\n",
       "      <th>PlayResult</th>\n",
       "      <th>cluster #</th>\n",
       "    </tr>\n",
       "  </thead>\n",
       "  <tbody>\n",
       "    <tr>\n",
       "      <td>59</td>\n",
       "      <td>59</td>\n",
       "      <td>0.873051</td>\n",
       "      <td>0.813602</td>\n",
       "      <td>0.763811</td>\n",
       "      <td>0.181940</td>\n",
       "      <td>0.585063</td>\n",
       "      <td>0.052624</td>\n",
       "      <td>0.577237</td>\n",
       "      <td>1.0</td>\n",
       "      <td>3</td>\n",
       "    </tr>\n",
       "    <tr>\n",
       "      <td>80</td>\n",
       "      <td>80</td>\n",
       "      <td>0.728826</td>\n",
       "      <td>0.646934</td>\n",
       "      <td>0.664230</td>\n",
       "      <td>0.468802</td>\n",
       "      <td>0.747199</td>\n",
       "      <td>0.147331</td>\n",
       "      <td>0.580807</td>\n",
       "      <td>0.0</td>\n",
       "      <td>3</td>\n",
       "    </tr>\n",
       "    <tr>\n",
       "      <td>93</td>\n",
       "      <td>93</td>\n",
       "      <td>0.674305</td>\n",
       "      <td>0.633537</td>\n",
       "      <td>0.684491</td>\n",
       "      <td>0.326258</td>\n",
       "      <td>0.803888</td>\n",
       "      <td>0.169109</td>\n",
       "      <td>0.593896</td>\n",
       "      <td>0.0</td>\n",
       "      <td>3</td>\n",
       "    </tr>\n",
       "    <tr>\n",
       "      <td>168</td>\n",
       "      <td>168</td>\n",
       "      <td>0.738603</td>\n",
       "      <td>0.613121</td>\n",
       "      <td>0.626799</td>\n",
       "      <td>0.449492</td>\n",
       "      <td>0.677849</td>\n",
       "      <td>0.126722</td>\n",
       "      <td>0.446349</td>\n",
       "      <td>0.0</td>\n",
       "      <td>3</td>\n",
       "    </tr>\n",
       "    <tr>\n",
       "      <td>186</td>\n",
       "      <td>186</td>\n",
       "      <td>0.727946</td>\n",
       "      <td>0.627280</td>\n",
       "      <td>0.640828</td>\n",
       "      <td>0.280221</td>\n",
       "      <td>0.647478</td>\n",
       "      <td>0.117477</td>\n",
       "      <td>0.510405</td>\n",
       "      <td>1.0</td>\n",
       "      <td>3</td>\n",
       "    </tr>\n",
       "  </tbody>\n",
       "</table>\n",
       "</div>"
      ],
      "text/plain": [
       "     Unnamed: 0     Angle  PositionAt110Y  HangTime  HitSpinRate  \\\n",
       "59           59  0.873051        0.813602  0.763811     0.181940   \n",
       "80           80  0.728826        0.646934  0.664230     0.468802   \n",
       "93           93  0.674305        0.633537  0.684491     0.326258   \n",
       "168         168  0.738603        0.613121  0.626799     0.449492   \n",
       "186         186  0.727946        0.627280  0.640828     0.280221   \n",
       "\n",
       "     PositionAt110X  LastTrackedDistance  ExitSpeed  PlayResult  cluster #  \n",
       "59         0.585063             0.052624   0.577237         1.0          3  \n",
       "80         0.747199             0.147331   0.580807         0.0          3  \n",
       "93         0.803888             0.169109   0.593896         0.0          3  \n",
       "168        0.677849             0.126722   0.446349         0.0          3  \n",
       "186        0.647478             0.117477   0.510405         1.0          3  "
      ]
     },
     "execution_count": 189,
     "metadata": {},
     "output_type": "execute_result"
    }
   ],
   "source": [
    "overall_3.head() # Mostly outs"
   ]
  },
  {
   "cell_type": "code",
   "execution_count": 190,
   "metadata": {},
   "outputs": [
    {
     "data": {
      "text/html": [
       "<div>\n",
       "<style scoped>\n",
       "    .dataframe tbody tr th:only-of-type {\n",
       "        vertical-align: middle;\n",
       "    }\n",
       "\n",
       "    .dataframe tbody tr th {\n",
       "        vertical-align: top;\n",
       "    }\n",
       "\n",
       "    .dataframe thead th {\n",
       "        text-align: right;\n",
       "    }\n",
       "</style>\n",
       "<table border=\"1\" class=\"dataframe\">\n",
       "  <thead>\n",
       "    <tr style=\"text-align: right;\">\n",
       "      <th></th>\n",
       "      <th>Unnamed: 0</th>\n",
       "      <th>Angle</th>\n",
       "      <th>PositionAt110Y</th>\n",
       "      <th>HangTime</th>\n",
       "      <th>HitSpinRate</th>\n",
       "      <th>PositionAt110X</th>\n",
       "      <th>LastTrackedDistance</th>\n",
       "      <th>ExitSpeed</th>\n",
       "      <th>PlayResult</th>\n",
       "      <th>cluster #</th>\n",
       "    </tr>\n",
       "  </thead>\n",
       "  <tbody>\n",
       "    <tr>\n",
       "      <td>6</td>\n",
       "      <td>6</td>\n",
       "      <td>0.196613</td>\n",
       "      <td>0.156593</td>\n",
       "      <td>0.356928</td>\n",
       "      <td>0.439495</td>\n",
       "      <td>0.711860</td>\n",
       "      <td>0.412023</td>\n",
       "      <td>0.670618</td>\n",
       "      <td>0.0</td>\n",
       "      <td>2</td>\n",
       "    </tr>\n",
       "    <tr>\n",
       "      <td>16</td>\n",
       "      <td>16</td>\n",
       "      <td>0.089682</td>\n",
       "      <td>0.069013</td>\n",
       "      <td>0.157516</td>\n",
       "      <td>0.355056</td>\n",
       "      <td>0.910964</td>\n",
       "      <td>0.465057</td>\n",
       "      <td>0.789248</td>\n",
       "      <td>1.0</td>\n",
       "      <td>2</td>\n",
       "    </tr>\n",
       "    <tr>\n",
       "      <td>18</td>\n",
       "      <td>18</td>\n",
       "      <td>0.033962</td>\n",
       "      <td>0.002464</td>\n",
       "      <td>0.009936</td>\n",
       "      <td>0.443634</td>\n",
       "      <td>0.695292</td>\n",
       "      <td>0.204447</td>\n",
       "      <td>0.827298</td>\n",
       "      <td>0.0</td>\n",
       "      <td>2</td>\n",
       "    </tr>\n",
       "    <tr>\n",
       "      <td>30</td>\n",
       "      <td>30</td>\n",
       "      <td>0.042752</td>\n",
       "      <td>0.023634</td>\n",
       "      <td>0.048918</td>\n",
       "      <td>0.397847</td>\n",
       "      <td>0.558666</td>\n",
       "      <td>0.268068</td>\n",
       "      <td>0.817951</td>\n",
       "      <td>1.0</td>\n",
       "      <td>2</td>\n",
       "    </tr>\n",
       "    <tr>\n",
       "      <td>87</td>\n",
       "      <td>87</td>\n",
       "      <td>0.095563</td>\n",
       "      <td>0.064718</td>\n",
       "      <td>0.157287</td>\n",
       "      <td>0.410726</td>\n",
       "      <td>0.872065</td>\n",
       "      <td>0.426753</td>\n",
       "      <td>0.717873</td>\n",
       "      <td>1.0</td>\n",
       "      <td>2</td>\n",
       "    </tr>\n",
       "  </tbody>\n",
       "</table>\n",
       "</div>"
      ],
      "text/plain": [
       "    Unnamed: 0     Angle  PositionAt110Y  HangTime  HitSpinRate  \\\n",
       "6            6  0.196613        0.156593  0.356928     0.439495   \n",
       "16          16  0.089682        0.069013  0.157516     0.355056   \n",
       "18          18  0.033962        0.002464  0.009936     0.443634   \n",
       "30          30  0.042752        0.023634  0.048918     0.397847   \n",
       "87          87  0.095563        0.064718  0.157287     0.410726   \n",
       "\n",
       "    PositionAt110X  LastTrackedDistance  ExitSpeed  PlayResult  cluster #  \n",
       "6         0.711860             0.412023   0.670618         0.0          2  \n",
       "16        0.910964             0.465057   0.789248         1.0          2  \n",
       "18        0.695292             0.204447   0.827298         0.0          2  \n",
       "30        0.558666             0.268068   0.817951         1.0          2  \n",
       "87        0.872065             0.426753   0.717873         1.0          2  "
      ]
     },
     "execution_count": 190,
     "metadata": {},
     "output_type": "execute_result"
    }
   ],
   "source": [
    "overall_2.head() # Mostly hits"
   ]
  },
  {
   "cell_type": "code",
   "execution_count": null,
   "metadata": {},
   "outputs": [],
   "source": []
  }
 ],
 "metadata": {
  "kernelspec": {
   "display_name": "Python 3",
   "language": "python",
   "name": "python3"
  },
  "language_info": {
   "codemirror_mode": {
    "name": "ipython",
    "version": 3
   },
   "file_extension": ".py",
   "mimetype": "text/x-python",
   "name": "python",
   "nbconvert_exporter": "python",
   "pygments_lexer": "ipython3",
   "version": "3.7.4"
  }
 },
 "nbformat": 4,
 "nbformat_minor": 2
}
